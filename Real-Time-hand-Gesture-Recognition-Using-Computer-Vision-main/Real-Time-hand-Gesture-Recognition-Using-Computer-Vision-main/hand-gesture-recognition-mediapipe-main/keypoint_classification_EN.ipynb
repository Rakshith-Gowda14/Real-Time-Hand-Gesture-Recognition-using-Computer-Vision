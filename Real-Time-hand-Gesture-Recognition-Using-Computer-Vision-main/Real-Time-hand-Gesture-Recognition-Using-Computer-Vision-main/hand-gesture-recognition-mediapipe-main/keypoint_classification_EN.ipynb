{
 "cells": [
  {
   "cell_type": "code",
   "execution_count": 1,
   "metadata": {
    "id": "igMyGnjE9hEp"
   },
   "outputs": [],
   "source": [
    "import csv\n",
    "\n",
    "import numpy as np\n",
    "import tensorflow as tf\n",
    "from sklearn.model_selection import train_test_split\n",
    "\n",
    "RANDOM_SEED = 42"
   ]
  },
  {
   "cell_type": "markdown",
   "metadata": {
    "id": "t2HDvhIu9hEr"
   },
   "source": [
    "# Specify each path"
   ]
  },
  {
   "cell_type": "code",
   "execution_count": 2,
   "metadata": {
    "id": "9NvZP2Zn9hEy"
   },
   "outputs": [],
   "source": [
    "dataset = 'model/keypoint_classifier/keypoint.csv'\n",
    "model_save_path = 'model/keypoint_classifier/keypoint_classifier.hdf5'\n",
    "tflite_save_path = 'model/keypoint_classifier/keypoint_classifier.tflite'"
   ]
  },
  {
   "cell_type": "markdown",
   "metadata": {
    "id": "s5oMH7x19hEz"
   },
   "source": [
    "# Set number of classes"
   ]
  },
  {
   "cell_type": "code",
   "execution_count": 3,
   "metadata": {
    "id": "du4kodXL9hEz"
   },
   "outputs": [],
   "source": [
    "NUM_CLASSES = 6"
   ]
  },
  {
   "cell_type": "markdown",
   "metadata": {
    "id": "XjnL0uso9hEz"
   },
   "source": [
    "# Dataset reading"
   ]
  },
  {
   "cell_type": "code",
   "execution_count": 4,
   "metadata": {
    "id": "QT5ZqtEz9hE0"
   },
   "outputs": [],
   "source": [
    "X_dataset = np.loadtxt(dataset, delimiter=',', dtype='float32', usecols=list(range(1, (21 * 2) + 1)))"
   ]
  },
  {
   "cell_type": "code",
   "execution_count": 5,
   "metadata": {
    "id": "QmoKFsp49hE0"
   },
   "outputs": [],
   "source": [
    "y_dataset = np.loadtxt(dataset, delimiter=',', dtype='int32', usecols=(0))"
   ]
  },
  {
   "cell_type": "code",
   "execution_count": 6,
   "metadata": {
    "id": "xQU7JTZ_9hE0"
   },
   "outputs": [],
   "source": [
    "X_train, X_test, y_train, y_test = train_test_split(X_dataset, y_dataset, train_size=0.75, random_state=RANDOM_SEED)"
   ]
  },
  {
   "cell_type": "markdown",
   "metadata": {
    "id": "mxK_lETT9hE0"
   },
   "source": [
    "# Model building"
   ]
  },
  {
   "cell_type": "code",
   "execution_count": 7,
   "metadata": {
    "id": "vHBmUf1t9hE1"
   },
   "outputs": [],
   "source": [
    "model = tf.keras.models.Sequential([\n",
    "    tf.keras.layers.Input((21 * 2, )),\n",
    "    tf.keras.layers.Dropout(0.2),\n",
    "    tf.keras.layers.Dense(20, activation='relu'),\n",
    "    tf.keras.layers.Dropout(0.4),\n",
    "    tf.keras.layers.Dense(10, activation='relu'),\n",
    "    tf.keras.layers.Dense(NUM_CLASSES, activation='softmax')\n",
    "])"
   ]
  },
  {
   "cell_type": "code",
   "execution_count": 8,
   "metadata": {
    "colab": {
     "base_uri": "https://localhost:8080/"
    },
    "id": "ypqky9tc9hE1",
    "outputId": "5db082bb-30e3-4110-bf63-a1ee777ecd46"
   },
   "outputs": [
    {
     "name": "stdout",
     "output_type": "stream",
     "text": [
      "Model: \"sequential\"\n",
      "_________________________________________________________________\n",
      " Layer (type)                Output Shape              Param #   \n",
      "=================================================================\n",
      " dropout (Dropout)           (None, 42)                0         \n",
      "                                                                 \n",
      " dense (Dense)               (None, 20)                860       \n",
      "                                                                 \n",
      " dropout_1 (Dropout)         (None, 20)                0         \n",
      "                                                                 \n",
      " dense_1 (Dense)             (None, 10)                210       \n",
      "                                                                 \n",
      " dense_2 (Dense)             (None, 6)                 66        \n",
      "                                                                 \n",
      "=================================================================\n",
      "Total params: 1136 (4.44 KB)\n",
      "Trainable params: 1136 (4.44 KB)\n",
      "Non-trainable params: 0 (0.00 Byte)\n",
      "_________________________________________________________________\n"
     ]
    }
   ],
   "source": [
    "model.summary()  # tf.keras.utils.plot_model(model, show_shapes=True)"
   ]
  },
  {
   "cell_type": "code",
   "execution_count": 9,
   "metadata": {
    "id": "MbMjOflQ9hE1"
   },
   "outputs": [],
   "source": [
    "# Model checkpoint callback\n",
    "cp_callback = tf.keras.callbacks.ModelCheckpoint(\n",
    "    model_save_path, verbose=1, save_weights_only=False)\n",
    "# Callback for early stopping\n",
    "es_callback = tf.keras.callbacks.EarlyStopping(patience=20, verbose=1)"
   ]
  },
  {
   "cell_type": "code",
   "execution_count": 10,
   "metadata": {
    "id": "c3Dac0M_9hE2"
   },
   "outputs": [],
   "source": [
    "# Model compilation\n",
    "model.compile(\n",
    "    optimizer='adam',\n",
    "    loss='sparse_categorical_crossentropy',\n",
    "    metrics=['accuracy']\n",
    ")"
   ]
  },
  {
   "cell_type": "markdown",
   "metadata": {
    "id": "7XI0j1Iu9hE2"
   },
   "source": [
    "# Model training"
   ]
  },
  {
   "cell_type": "code",
   "execution_count": 11,
   "metadata": {
    "colab": {
     "base_uri": "https://localhost:8080/"
    },
    "id": "WirBl-JE9hE3",
    "outputId": "71b30ca2-8294-4d9d-8aa2-800d90d399de",
    "scrolled": true
   },
   "outputs": [
    {
     "name": "stdout",
     "output_type": "stream",
     "text": [
      "Epoch 1/1000\n",
      " 1/26 [>.............................] - ETA: 12s - loss: 1.9508 - accuracy: 0.1094\n",
      "Epoch 1: saving model to model/keypoint_classifier\\keypoint_classifier.hdf5\n",
      "26/26 [==============================] - 1s 10ms/step - loss: 1.8741 - accuracy: 0.1351 - val_loss: 1.7254 - val_accuracy: 0.3131\n",
      "Epoch 2/1000\n",
      " 1/26 [>.............................] - ETA: 0s - loss: 1.7742 - accuracy: 0.1875\n",
      "Epoch 2: saving model to model/keypoint_classifier\\keypoint_classifier.hdf5\n",
      "26/26 [==============================] - 0s 3ms/step - loss: 1.6986 - accuracy: 0.2842 - val_loss: 1.5846 - val_accuracy: 0.3766\n",
      "Epoch 3/1000\n",
      " 1/26 [>.............................] - ETA: 0s - loss: 1.6183 - accuracy: 0.3516\n",
      "Epoch 3: saving model to model/keypoint_classifier\\keypoint_classifier.hdf5\n",
      "26/26 [==============================] - 0s 3ms/step - loss: 1.5671 - accuracy: 0.3631 - val_loss: 1.4529 - val_accuracy: 0.3950\n"
     ]
    },
    {
     "name": "stderr",
     "output_type": "stream",
     "text": [
      "D:\\anaconda\\lib\\site-packages\\keras\\src\\engine\\training.py:3000: UserWarning: You are saving your model as an HDF5 file via `model.save()`. This file format is considered legacy. We recommend using instead the native Keras format, e.g. `model.save('my_model.keras')`.\n",
      "  saving_api.save_model(\n"
     ]
    },
    {
     "name": "stdout",
     "output_type": "stream",
     "text": [
      "Epoch 4/1000\n",
      " 1/26 [>.............................] - ETA: 0s - loss: 1.4707 - accuracy: 0.3750\n",
      "Epoch 4: saving model to model/keypoint_classifier\\keypoint_classifier.hdf5\n",
      "26/26 [==============================] - 0s 3ms/step - loss: 1.4594 - accuracy: 0.4104 - val_loss: 1.3416 - val_accuracy: 0.4319\n",
      "Epoch 5/1000\n",
      " 1/26 [>.............................] - ETA: 0s - loss: 1.3663 - accuracy: 0.4375\n",
      "Epoch 5: saving model to model/keypoint_classifier\\keypoint_classifier.hdf5\n",
      "26/26 [==============================] - 0s 3ms/step - loss: 1.3806 - accuracy: 0.4174 - val_loss: 1.2608 - val_accuracy: 0.4816\n",
      "Epoch 6/1000\n",
      " 1/26 [>.............................] - ETA: 0s - loss: 1.3371 - accuracy: 0.4297\n",
      "Epoch 6: saving model to model/keypoint_classifier\\keypoint_classifier.hdf5\n",
      "26/26 [==============================] - 0s 3ms/step - loss: 1.3375 - accuracy: 0.4362 - val_loss: 1.2033 - val_accuracy: 0.5331\n",
      "Epoch 7/1000\n",
      " 1/26 [>.............................] - ETA: 0s - loss: 1.4202 - accuracy: 0.3906\n",
      "Epoch 7: saving model to model/keypoint_classifier\\keypoint_classifier.hdf5\n",
      "26/26 [==============================] - 0s 3ms/step - loss: 1.2905 - accuracy: 0.4641 - val_loss: 1.1557 - val_accuracy: 0.5645\n",
      "Epoch 8/1000\n",
      " 1/26 [>.............................] - ETA: 0s - loss: 1.3003 - accuracy: 0.5000\n",
      "Epoch 8: saving model to model/keypoint_classifier\\keypoint_classifier.hdf5\n",
      "26/26 [==============================] - 0s 3ms/step - loss: 1.2445 - accuracy: 0.4797 - val_loss: 1.1037 - val_accuracy: 0.5893\n",
      "Epoch 9/1000\n",
      " 1/26 [>.............................] - ETA: 0s - loss: 1.1451 - accuracy: 0.5312\n",
      "Epoch 9: saving model to model/keypoint_classifier\\keypoint_classifier.hdf5\n",
      "26/26 [==============================] - 0s 3ms/step - loss: 1.2076 - accuracy: 0.4960 - val_loss: 1.0468 - val_accuracy: 0.6400\n",
      "Epoch 10/1000\n",
      " 1/26 [>.............................] - ETA: 0s - loss: 1.1232 - accuracy: 0.5391\n",
      "Epoch 10: saving model to model/keypoint_classifier\\keypoint_classifier.hdf5\n",
      "26/26 [==============================] - 0s 3ms/step - loss: 1.1672 - accuracy: 0.5144 - val_loss: 0.9905 - val_accuracy: 0.7136\n",
      "Epoch 11/1000\n",
      " 1/26 [>.............................] - ETA: 0s - loss: 1.1487 - accuracy: 0.5859\n",
      "Epoch 11: saving model to model/keypoint_classifier\\keypoint_classifier.hdf5\n",
      "26/26 [==============================] - 0s 3ms/step - loss: 1.1352 - accuracy: 0.5270 - val_loss: 0.9405 - val_accuracy: 0.7597\n",
      "Epoch 12/1000\n",
      " 1/26 [>.............................] - ETA: 0s - loss: 1.1418 - accuracy: 0.4844\n",
      "Epoch 12: saving model to model/keypoint_classifier\\keypoint_classifier.hdf5\n",
      "26/26 [==============================] - 0s 3ms/step - loss: 1.1043 - accuracy: 0.5457 - val_loss: 0.8918 - val_accuracy: 0.7818\n",
      "Epoch 13/1000\n",
      " 1/26 [>.............................] - ETA: 0s - loss: 1.1240 - accuracy: 0.5391\n",
      "Epoch 13: saving model to model/keypoint_classifier\\keypoint_classifier.hdf5\n",
      "26/26 [==============================] - 0s 3ms/step - loss: 1.0679 - accuracy: 0.5522 - val_loss: 0.8482 - val_accuracy: 0.7790\n",
      "Epoch 14/1000\n",
      " 1/26 [>.............................] - ETA: 0s - loss: 1.1114 - accuracy: 0.5391\n",
      "Epoch 14: saving model to model/keypoint_classifier\\keypoint_classifier.hdf5\n",
      "26/26 [==============================] - 0s 3ms/step - loss: 1.0421 - accuracy: 0.5595 - val_loss: 0.8103 - val_accuracy: 0.7974\n",
      "Epoch 15/1000\n",
      " 1/26 [>.............................] - ETA: 0s - loss: 1.0097 - accuracy: 0.5859\n",
      "Epoch 15: saving model to model/keypoint_classifier\\keypoint_classifier.hdf5\n",
      "26/26 [==============================] - 0s 3ms/step - loss: 1.0174 - accuracy: 0.5761 - val_loss: 0.7776 - val_accuracy: 0.7993\n",
      "Epoch 16/1000\n",
      " 1/26 [>.............................] - ETA: 0s - loss: 0.9671 - accuracy: 0.6172\n",
      "Epoch 16: saving model to model/keypoint_classifier\\keypoint_classifier.hdf5\n",
      "26/26 [==============================] - 0s 3ms/step - loss: 0.9978 - accuracy: 0.5856 - val_loss: 0.7515 - val_accuracy: 0.8131\n",
      "Epoch 17/1000\n",
      " 1/26 [>.............................] - ETA: 0s - loss: 1.0461 - accuracy: 0.5156\n",
      "Epoch 17: saving model to model/keypoint_classifier\\keypoint_classifier.hdf5\n",
      "26/26 [==============================] - 0s 3ms/step - loss: 0.9680 - accuracy: 0.6001 - val_loss: 0.7217 - val_accuracy: 0.8223\n",
      "Epoch 18/1000\n",
      " 1/26 [>.............................] - ETA: 0s - loss: 0.9747 - accuracy: 0.6016\n",
      "Epoch 18: saving model to model/keypoint_classifier\\keypoint_classifier.hdf5\n",
      "26/26 [==============================] - 0s 3ms/step - loss: 0.9533 - accuracy: 0.5970 - val_loss: 0.6957 - val_accuracy: 0.8306\n",
      "Epoch 19/1000\n",
      " 1/26 [>.............................] - ETA: 0s - loss: 0.9299 - accuracy: 0.5938\n",
      "Epoch 19: saving model to model/keypoint_classifier\\keypoint_classifier.hdf5\n",
      "26/26 [==============================] - 0s 3ms/step - loss: 0.9285 - accuracy: 0.6203 - val_loss: 0.6695 - val_accuracy: 0.8306\n",
      "Epoch 20/1000\n",
      " 1/26 [>.............................] - ETA: 0s - loss: 0.8788 - accuracy: 0.6406\n",
      "Epoch 20: saving model to model/keypoint_classifier\\keypoint_classifier.hdf5\n",
      "26/26 [==============================] - 0s 3ms/step - loss: 0.9297 - accuracy: 0.6172 - val_loss: 0.6559 - val_accuracy: 0.8195\n",
      "Epoch 21/1000\n",
      " 1/26 [>.............................] - ETA: 0s - loss: 0.9704 - accuracy: 0.6328\n",
      "Epoch 21: saving model to model/keypoint_classifier\\keypoint_classifier.hdf5\n",
      "26/26 [==============================] - 0s 3ms/step - loss: 0.8888 - accuracy: 0.6335 - val_loss: 0.6364 - val_accuracy: 0.8269\n",
      "Epoch 22/1000\n",
      " 1/26 [>.............................] - ETA: 0s - loss: 0.8547 - accuracy: 0.6172\n",
      "Epoch 22: saving model to model/keypoint_classifier\\keypoint_classifier.hdf5\n",
      "26/26 [==============================] - 0s 3ms/step - loss: 0.8939 - accuracy: 0.6265 - val_loss: 0.6102 - val_accuracy: 0.8389\n",
      "Epoch 23/1000\n",
      " 1/26 [>.............................] - ETA: 0s - loss: 0.8895 - accuracy: 0.6484\n",
      "Epoch 23: saving model to model/keypoint_classifier\\keypoint_classifier.hdf5\n",
      "26/26 [==============================] - 0s 3ms/step - loss: 0.8580 - accuracy: 0.6461 - val_loss: 0.5910 - val_accuracy: 0.8324\n",
      "Epoch 24/1000\n",
      " 1/26 [>.............................] - ETA: 0s - loss: 0.8478 - accuracy: 0.6641\n",
      "Epoch 24: saving model to model/keypoint_classifier\\keypoint_classifier.hdf5\n",
      "26/26 [==============================] - 0s 3ms/step - loss: 0.8433 - accuracy: 0.6427 - val_loss: 0.5864 - val_accuracy: 0.8122\n",
      "Epoch 25/1000\n",
      " 1/26 [>.............................] - ETA: 0s - loss: 0.8442 - accuracy: 0.6406\n",
      "Epoch 25: saving model to model/keypoint_classifier\\keypoint_classifier.hdf5\n",
      "26/26 [==============================] - 0s 3ms/step - loss: 0.8532 - accuracy: 0.6464 - val_loss: 0.5683 - val_accuracy: 0.8333\n",
      "Epoch 26/1000\n",
      " 1/26 [>.............................] - ETA: 0s - loss: 0.8066 - accuracy: 0.6641\n",
      "Epoch 26: saving model to model/keypoint_classifier\\keypoint_classifier.hdf5\n",
      "26/26 [==============================] - 0s 3ms/step - loss: 0.8442 - accuracy: 0.6455 - val_loss: 0.5576 - val_accuracy: 0.8499\n",
      "Epoch 27/1000\n",
      " 1/26 [>.............................] - ETA: 0s - loss: 0.8938 - accuracy: 0.6016\n",
      "Epoch 27: saving model to model/keypoint_classifier\\keypoint_classifier.hdf5\n",
      "26/26 [==============================] - 0s 3ms/step - loss: 0.8457 - accuracy: 0.6427 - val_loss: 0.5490 - val_accuracy: 0.8508\n",
      "Epoch 28/1000\n",
      " 1/26 [>.............................] - ETA: 0s - loss: 0.8254 - accuracy: 0.6641\n",
      "Epoch 28: saving model to model/keypoint_classifier\\keypoint_classifier.hdf5\n",
      "26/26 [==============================] - 0s 3ms/step - loss: 0.8303 - accuracy: 0.6538 - val_loss: 0.5462 - val_accuracy: 0.8343\n",
      "Epoch 29/1000\n",
      " 1/26 [>.............................] - ETA: 0s - loss: 0.7983 - accuracy: 0.7188\n",
      "Epoch 29: saving model to model/keypoint_classifier\\keypoint_classifier.hdf5\n",
      "26/26 [==============================] - 0s 3ms/step - loss: 0.8081 - accuracy: 0.6599 - val_loss: 0.5291 - val_accuracy: 0.8499\n",
      "Epoch 30/1000\n",
      " 1/26 [>.............................] - ETA: 0s - loss: 0.8169 - accuracy: 0.6641\n",
      "Epoch 30: saving model to model/keypoint_classifier\\keypoint_classifier.hdf5\n",
      "26/26 [==============================] - 0s 3ms/step - loss: 0.8178 - accuracy: 0.6565 - val_loss: 0.5189 - val_accuracy: 0.8564\n",
      "Epoch 31/1000\n"
     ]
    },
    {
     "name": "stdout",
     "output_type": "stream",
     "text": [
      " 1/26 [>.............................] - ETA: 0s - loss: 0.8718 - accuracy: 0.6484\n",
      "Epoch 31: saving model to model/keypoint_classifier\\keypoint_classifier.hdf5\n",
      "26/26 [==============================] - 0s 3ms/step - loss: 0.7906 - accuracy: 0.6713 - val_loss: 0.5086 - val_accuracy: 0.8564\n",
      "Epoch 32/1000\n",
      " 1/26 [>.............................] - ETA: 0s - loss: 0.7575 - accuracy: 0.6719\n",
      "Epoch 32: saving model to model/keypoint_classifier\\keypoint_classifier.hdf5\n",
      "26/26 [==============================] - 0s 3ms/step - loss: 0.7905 - accuracy: 0.6639 - val_loss: 0.4994 - val_accuracy: 0.8628\n",
      "Epoch 33/1000\n",
      " 1/26 [>.............................] - ETA: 0s - loss: 0.8586 - accuracy: 0.6328\n",
      "Epoch 33: saving model to model/keypoint_classifier\\keypoint_classifier.hdf5\n",
      "26/26 [==============================] - 0s 3ms/step - loss: 0.7787 - accuracy: 0.6703 - val_loss: 0.4954 - val_accuracy: 0.8536\n",
      "Epoch 34/1000\n",
      " 1/26 [>.............................] - ETA: 0s - loss: 0.8289 - accuracy: 0.6406\n",
      "Epoch 34: saving model to model/keypoint_classifier\\keypoint_classifier.hdf5\n",
      "26/26 [==============================] - 0s 3ms/step - loss: 0.7727 - accuracy: 0.6700 - val_loss: 0.4811 - val_accuracy: 0.8517\n",
      "Epoch 35/1000\n",
      " 1/26 [>.............................] - ETA: 0s - loss: 0.7890 - accuracy: 0.6875\n",
      "Epoch 35: saving model to model/keypoint_classifier\\keypoint_classifier.hdf5\n",
      "26/26 [==============================] - 0s 3ms/step - loss: 0.7660 - accuracy: 0.6765 - val_loss: 0.4766 - val_accuracy: 0.8536\n",
      "Epoch 36/1000\n",
      " 1/26 [>.............................] - ETA: 0s - loss: 0.7810 - accuracy: 0.6875\n",
      "Epoch 36: saving model to model/keypoint_classifier\\keypoint_classifier.hdf5\n",
      "26/26 [==============================] - 0s 3ms/step - loss: 0.7661 - accuracy: 0.6796 - val_loss: 0.4711 - val_accuracy: 0.8471\n",
      "Epoch 37/1000\n",
      " 1/26 [>.............................] - ETA: 0s - loss: 0.9107 - accuracy: 0.6172\n",
      "Epoch 37: saving model to model/keypoint_classifier\\keypoint_classifier.hdf5\n",
      "26/26 [==============================] - 0s 3ms/step - loss: 0.7545 - accuracy: 0.6737 - val_loss: 0.4621 - val_accuracy: 0.8536\n",
      "Epoch 38/1000\n",
      " 1/26 [>.............................] - ETA: 0s - loss: 0.8729 - accuracy: 0.6719\n",
      "Epoch 38: saving model to model/keypoint_classifier\\keypoint_classifier.hdf5\n",
      "26/26 [==============================] - 0s 3ms/step - loss: 0.7498 - accuracy: 0.6793 - val_loss: 0.4545 - val_accuracy: 0.8554\n",
      "Epoch 39/1000\n",
      " 1/26 [>.............................] - ETA: 0s - loss: 0.7479 - accuracy: 0.6797\n",
      "Epoch 39: saving model to model/keypoint_classifier\\keypoint_classifier.hdf5\n",
      "26/26 [==============================] - 0s 3ms/step - loss: 0.7475 - accuracy: 0.6817 - val_loss: 0.4454 - val_accuracy: 0.8683\n",
      "Epoch 40/1000\n",
      " 1/26 [>.............................] - ETA: 0s - loss: 0.8340 - accuracy: 0.6328\n",
      "Epoch 40: saving model to model/keypoint_classifier\\keypoint_classifier.hdf5\n",
      "26/26 [==============================] - 0s 3ms/step - loss: 0.7302 - accuracy: 0.6839 - val_loss: 0.4369 - val_accuracy: 0.8628\n",
      "Epoch 41/1000\n",
      " 1/26 [>.............................] - ETA: 0s - loss: 0.7562 - accuracy: 0.6953\n",
      "Epoch 41: saving model to model/keypoint_classifier\\keypoint_classifier.hdf5\n",
      "26/26 [==============================] - 0s 3ms/step - loss: 0.7499 - accuracy: 0.6780 - val_loss: 0.4363 - val_accuracy: 0.8517\n",
      "Epoch 42/1000\n",
      " 1/26 [>.............................] - ETA: 0s - loss: 0.7598 - accuracy: 0.6875\n",
      "Epoch 42: saving model to model/keypoint_classifier\\keypoint_classifier.hdf5\n",
      "26/26 [==============================] - 0s 3ms/step - loss: 0.7371 - accuracy: 0.6888 - val_loss: 0.4314 - val_accuracy: 0.8610\n",
      "Epoch 43/1000\n",
      " 1/26 [>.............................] - ETA: 0s - loss: 0.8066 - accuracy: 0.6406\n",
      "Epoch 43: saving model to model/keypoint_classifier\\keypoint_classifier.hdf5\n",
      "26/26 [==============================] - 0s 3ms/step - loss: 0.7324 - accuracy: 0.6869 - val_loss: 0.4244 - val_accuracy: 0.8508\n",
      "Epoch 44/1000\n",
      " 1/26 [>.............................] - ETA: 0s - loss: 0.7789 - accuracy: 0.6250\n",
      "Epoch 44: saving model to model/keypoint_classifier\\keypoint_classifier.hdf5\n",
      "26/26 [==============================] - 0s 3ms/step - loss: 0.7124 - accuracy: 0.7004 - val_loss: 0.4176 - val_accuracy: 0.8711\n",
      "Epoch 45/1000\n",
      " 1/26 [>.............................] - ETA: 0s - loss: 0.6892 - accuracy: 0.7188\n",
      "Epoch 45: saving model to model/keypoint_classifier\\keypoint_classifier.hdf5\n",
      "26/26 [==============================] - 0s 3ms/step - loss: 0.7174 - accuracy: 0.6866 - val_loss: 0.4070 - val_accuracy: 0.8711\n",
      "Epoch 46/1000\n",
      " 1/26 [>.............................] - ETA: 0s - loss: 0.7494 - accuracy: 0.6484\n",
      "Epoch 46: saving model to model/keypoint_classifier\\keypoint_classifier.hdf5\n",
      "26/26 [==============================] - 0s 3ms/step - loss: 0.7108 - accuracy: 0.6958 - val_loss: 0.4077 - val_accuracy: 0.8628\n",
      "Epoch 47/1000\n",
      " 1/26 [>.............................] - ETA: 0s - loss: 0.5858 - accuracy: 0.7422\n",
      "Epoch 47: saving model to model/keypoint_classifier\\keypoint_classifier.hdf5\n",
      "26/26 [==============================] - 0s 3ms/step - loss: 0.7197 - accuracy: 0.6943 - val_loss: 0.3982 - val_accuracy: 0.8619\n",
      "Epoch 48/1000\n",
      " 1/26 [>.............................] - ETA: 0s - loss: 0.8736 - accuracy: 0.5781\n",
      "Epoch 48: saving model to model/keypoint_classifier\\keypoint_classifier.hdf5\n",
      "26/26 [==============================] - 0s 3ms/step - loss: 0.7138 - accuracy: 0.6943 - val_loss: 0.3947 - val_accuracy: 0.8573\n",
      "Epoch 49/1000\n",
      " 1/26 [>.............................] - ETA: 0s - loss: 0.6960 - accuracy: 0.7422\n",
      "Epoch 49: saving model to model/keypoint_classifier\\keypoint_classifier.hdf5\n",
      "26/26 [==============================] - 0s 3ms/step - loss: 0.6911 - accuracy: 0.7084 - val_loss: 0.3895 - val_accuracy: 0.8600\n",
      "Epoch 50/1000\n",
      " 1/26 [>.............................] - ETA: 0s - loss: 0.7378 - accuracy: 0.6875\n",
      "Epoch 50: saving model to model/keypoint_classifier\\keypoint_classifier.hdf5\n",
      "26/26 [==============================] - 0s 3ms/step - loss: 0.6920 - accuracy: 0.7007 - val_loss: 0.3858 - val_accuracy: 0.8610\n",
      "Epoch 51/1000\n",
      " 1/26 [>.............................] - ETA: 0s - loss: 0.7035 - accuracy: 0.6719\n",
      "Epoch 51: saving model to model/keypoint_classifier\\keypoint_classifier.hdf5\n",
      "26/26 [==============================] - 0s 3ms/step - loss: 0.7016 - accuracy: 0.7020 - val_loss: 0.3842 - val_accuracy: 0.8738\n",
      "Epoch 52/1000\n",
      " 1/26 [>.............................] - ETA: 0s - loss: 0.6772 - accuracy: 0.7109\n",
      "Epoch 52: saving model to model/keypoint_classifier\\keypoint_classifier.hdf5\n",
      "26/26 [==============================] - 0s 3ms/step - loss: 0.6914 - accuracy: 0.7047 - val_loss: 0.3772 - val_accuracy: 0.8969\n",
      "Epoch 53/1000\n",
      " 1/26 [>.............................] - ETA: 0s - loss: 0.6281 - accuracy: 0.7266\n",
      "Epoch 53: saving model to model/keypoint_classifier\\keypoint_classifier.hdf5\n",
      "26/26 [==============================] - 0s 3ms/step - loss: 0.6855 - accuracy: 0.7152 - val_loss: 0.3748 - val_accuracy: 0.8858\n",
      "Epoch 54/1000\n",
      " 1/26 [>.............................] - ETA: 0s - loss: 0.6916 - accuracy: 0.6562\n",
      "Epoch 54: saving model to model/keypoint_classifier\\keypoint_classifier.hdf5\n",
      "26/26 [==============================] - 0s 3ms/step - loss: 0.6740 - accuracy: 0.7087 - val_loss: 0.3665 - val_accuracy: 0.9052\n",
      "Epoch 55/1000\n",
      " 1/26 [>.............................] - ETA: 0s - loss: 0.6522 - accuracy: 0.7188\n",
      "Epoch 55: saving model to model/keypoint_classifier\\keypoint_classifier.hdf5\n",
      "26/26 [==============================] - 0s 3ms/step - loss: 0.6627 - accuracy: 0.7164 - val_loss: 0.3610 - val_accuracy: 0.9042\n",
      "Epoch 56/1000\n",
      " 1/26 [>.............................] - ETA: 0s - loss: 0.6980 - accuracy: 0.7188\n",
      "Epoch 56: saving model to model/keypoint_classifier\\keypoint_classifier.hdf5\n",
      "26/26 [==============================] - 0s 3ms/step - loss: 0.6764 - accuracy: 0.7173 - val_loss: 0.3603 - val_accuracy: 0.9134\n",
      "Epoch 57/1000\n",
      " 1/26 [>.............................] - ETA: 0s - loss: 0.6942 - accuracy: 0.7031\n",
      "Epoch 57: saving model to model/keypoint_classifier\\keypoint_classifier.hdf5\n",
      "26/26 [==============================] - 0s 3ms/step - loss: 0.6821 - accuracy: 0.7155 - val_loss: 0.3664 - val_accuracy: 0.9042\n",
      "Epoch 58/1000\n"
     ]
    },
    {
     "name": "stdout",
     "output_type": "stream",
     "text": [
      " 1/26 [>.............................] - ETA: 0s - loss: 0.6670 - accuracy: 0.7812\n",
      "Epoch 58: saving model to model/keypoint_classifier\\keypoint_classifier.hdf5\n",
      "26/26 [==============================] - 0s 3ms/step - loss: 0.6579 - accuracy: 0.7265 - val_loss: 0.3556 - val_accuracy: 0.8987\n",
      "Epoch 59/1000\n",
      " 1/26 [>.............................] - ETA: 0s - loss: 0.6364 - accuracy: 0.7422\n",
      "Epoch 59: saving model to model/keypoint_classifier\\keypoint_classifier.hdf5\n",
      "26/26 [==============================] - 0s 3ms/step - loss: 0.6455 - accuracy: 0.7342 - val_loss: 0.3529 - val_accuracy: 0.8969\n",
      "Epoch 60/1000\n",
      " 1/26 [>.............................] - ETA: 0s - loss: 0.6033 - accuracy: 0.7344\n",
      "Epoch 60: saving model to model/keypoint_classifier\\keypoint_classifier.hdf5\n",
      "26/26 [==============================] - 0s 3ms/step - loss: 0.6502 - accuracy: 0.7305 - val_loss: 0.3470 - val_accuracy: 0.9061\n",
      "Epoch 61/1000\n",
      " 1/26 [>.............................] - ETA: 0s - loss: 0.6084 - accuracy: 0.7344\n",
      "Epoch 61: saving model to model/keypoint_classifier\\keypoint_classifier.hdf5\n",
      "26/26 [==============================] - 0s 3ms/step - loss: 0.6401 - accuracy: 0.7222 - val_loss: 0.3410 - val_accuracy: 0.9134\n",
      "Epoch 62/1000\n",
      " 1/26 [>.............................] - ETA: 0s - loss: 0.5272 - accuracy: 0.7656\n",
      "Epoch 62: saving model to model/keypoint_classifier\\keypoint_classifier.hdf5\n",
      "26/26 [==============================] - 0s 3ms/step - loss: 0.6473 - accuracy: 0.7302 - val_loss: 0.3331 - val_accuracy: 0.9180\n",
      "Epoch 63/1000\n",
      " 1/26 [>.............................] - ETA: 0s - loss: 0.7073 - accuracy: 0.6953\n",
      "Epoch 63: saving model to model/keypoint_classifier\\keypoint_classifier.hdf5\n",
      "26/26 [==============================] - 0s 3ms/step - loss: 0.6398 - accuracy: 0.7256 - val_loss: 0.3378 - val_accuracy: 0.9116\n",
      "Epoch 64/1000\n",
      " 1/26 [>.............................] - ETA: 0s - loss: 0.6821 - accuracy: 0.6875\n",
      "Epoch 64: saving model to model/keypoint_classifier\\keypoint_classifier.hdf5\n",
      "26/26 [==============================] - 0s 3ms/step - loss: 0.6370 - accuracy: 0.7336 - val_loss: 0.3338 - val_accuracy: 0.9061\n",
      "Epoch 65/1000\n",
      " 1/26 [>.............................] - ETA: 0s - loss: 0.6159 - accuracy: 0.7188\n",
      "Epoch 65: saving model to model/keypoint_classifier\\keypoint_classifier.hdf5\n",
      "26/26 [==============================] - 0s 3ms/step - loss: 0.6541 - accuracy: 0.7152 - val_loss: 0.3282 - val_accuracy: 0.9088\n",
      "Epoch 66/1000\n",
      " 1/26 [>.............................] - ETA: 0s - loss: 0.5904 - accuracy: 0.7500\n",
      "Epoch 66: saving model to model/keypoint_classifier\\keypoint_classifier.hdf5\n",
      "26/26 [==============================] - 0s 3ms/step - loss: 0.6383 - accuracy: 0.7305 - val_loss: 0.3251 - val_accuracy: 0.9125\n",
      "Epoch 67/1000\n",
      " 1/26 [>.............................] - ETA: 0s - loss: 0.6534 - accuracy: 0.7031\n",
      "Epoch 67: saving model to model/keypoint_classifier\\keypoint_classifier.hdf5\n",
      "26/26 [==============================] - 0s 3ms/step - loss: 0.6386 - accuracy: 0.7250 - val_loss: 0.3286 - val_accuracy: 0.9153\n",
      "Epoch 68/1000\n",
      " 1/26 [>.............................] - ETA: 0s - loss: 0.6534 - accuracy: 0.6953\n",
      "Epoch 68: saving model to model/keypoint_classifier\\keypoint_classifier.hdf5\n",
      "26/26 [==============================] - 0s 3ms/step - loss: 0.6309 - accuracy: 0.7455 - val_loss: 0.3275 - val_accuracy: 0.9208\n",
      "Epoch 69/1000\n",
      " 1/26 [>.............................] - ETA: 0s - loss: 0.7108 - accuracy: 0.6953\n",
      "Epoch 69: saving model to model/keypoint_classifier\\keypoint_classifier.hdf5\n",
      "26/26 [==============================] - 0s 3ms/step - loss: 0.6281 - accuracy: 0.7311 - val_loss: 0.3235 - val_accuracy: 0.9199\n",
      "Epoch 70/1000\n",
      " 1/26 [>.............................] - ETA: 0s - loss: 0.5424 - accuracy: 0.7969\n",
      "Epoch 70: saving model to model/keypoint_classifier\\keypoint_classifier.hdf5\n",
      "26/26 [==============================] - 0s 3ms/step - loss: 0.6255 - accuracy: 0.7345 - val_loss: 0.3158 - val_accuracy: 0.9236\n",
      "Epoch 71/1000\n",
      " 1/26 [>.............................] - ETA: 0s - loss: 0.6120 - accuracy: 0.7344\n",
      "Epoch 71: saving model to model/keypoint_classifier\\keypoint_classifier.hdf5\n",
      "26/26 [==============================] - 0s 3ms/step - loss: 0.6239 - accuracy: 0.7363 - val_loss: 0.3125 - val_accuracy: 0.9171\n",
      "Epoch 72/1000\n",
      " 1/26 [>.............................] - ETA: 0s - loss: 0.6230 - accuracy: 0.6875\n",
      "Epoch 72: saving model to model/keypoint_classifier\\keypoint_classifier.hdf5\n",
      "26/26 [==============================] - 0s 3ms/step - loss: 0.6106 - accuracy: 0.7465 - val_loss: 0.3172 - val_accuracy: 0.9153\n",
      "Epoch 73/1000\n",
      " 1/26 [>.............................] - ETA: 0s - loss: 0.5357 - accuracy: 0.7891\n",
      "Epoch 73: saving model to model/keypoint_classifier\\keypoint_classifier.hdf5\n",
      "26/26 [==============================] - 0s 3ms/step - loss: 0.6363 - accuracy: 0.7296 - val_loss: 0.3137 - val_accuracy: 0.9098\n",
      "Epoch 74/1000\n",
      " 1/26 [>.............................] - ETA: 0s - loss: 0.6100 - accuracy: 0.7578\n",
      "Epoch 74: saving model to model/keypoint_classifier\\keypoint_classifier.hdf5\n",
      "26/26 [==============================] - 0s 3ms/step - loss: 0.6157 - accuracy: 0.7413 - val_loss: 0.3144 - val_accuracy: 0.9162\n",
      "Epoch 75/1000\n",
      " 1/26 [>.............................] - ETA: 0s - loss: 0.5824 - accuracy: 0.7344\n",
      "Epoch 75: saving model to model/keypoint_classifier\\keypoint_classifier.hdf5\n",
      "26/26 [==============================] - 0s 3ms/step - loss: 0.6121 - accuracy: 0.7449 - val_loss: 0.3135 - val_accuracy: 0.9153\n",
      "Epoch 76/1000\n",
      " 1/26 [>.............................] - ETA: 0s - loss: 0.6622 - accuracy: 0.6719\n",
      "Epoch 76: saving model to model/keypoint_classifier\\keypoint_classifier.hdf5\n",
      "26/26 [==============================] - 0s 3ms/step - loss: 0.6261 - accuracy: 0.7351 - val_loss: 0.3089 - val_accuracy: 0.9208\n",
      "Epoch 77/1000\n",
      " 1/26 [>.............................] - ETA: 0s - loss: 0.5655 - accuracy: 0.7266\n",
      "Epoch 77: saving model to model/keypoint_classifier\\keypoint_classifier.hdf5\n",
      "26/26 [==============================] - 0s 3ms/step - loss: 0.6076 - accuracy: 0.7394 - val_loss: 0.3039 - val_accuracy: 0.9125\n",
      "Epoch 78/1000\n",
      " 1/26 [>.............................] - ETA: 0s - loss: 0.6761 - accuracy: 0.6953\n",
      "Epoch 78: saving model to model/keypoint_classifier\\keypoint_classifier.hdf5\n",
      "26/26 [==============================] - 0s 3ms/step - loss: 0.6038 - accuracy: 0.7600 - val_loss: 0.3046 - val_accuracy: 0.9180\n",
      "Epoch 79/1000\n",
      " 1/26 [>.............................] - ETA: 0s - loss: 0.5765 - accuracy: 0.7422\n",
      "Epoch 79: saving model to model/keypoint_classifier\\keypoint_classifier.hdf5\n",
      "26/26 [==============================] - 0s 3ms/step - loss: 0.6124 - accuracy: 0.7480 - val_loss: 0.2999 - val_accuracy: 0.9245\n",
      "Epoch 80/1000\n",
      " 1/26 [>.............................] - ETA: 0s - loss: 0.6576 - accuracy: 0.7266\n",
      "Epoch 80: saving model to model/keypoint_classifier\\keypoint_classifier.hdf5\n",
      "26/26 [==============================] - 0s 3ms/step - loss: 0.6198 - accuracy: 0.7477 - val_loss: 0.3024 - val_accuracy: 0.9328\n",
      "Epoch 81/1000\n",
      " 1/26 [>.............................] - ETA: 0s - loss: 0.5048 - accuracy: 0.7969\n",
      "Epoch 81: saving model to model/keypoint_classifier\\keypoint_classifier.hdf5\n",
      "26/26 [==============================] - 0s 3ms/step - loss: 0.5913 - accuracy: 0.7480 - val_loss: 0.2975 - val_accuracy: 0.9309\n",
      "Epoch 82/1000\n",
      " 1/26 [>.............................] - ETA: 0s - loss: 0.5825 - accuracy: 0.7969\n",
      "Epoch 82: saving model to model/keypoint_classifier\\keypoint_classifier.hdf5\n",
      "26/26 [==============================] - 0s 3ms/step - loss: 0.6043 - accuracy: 0.7480 - val_loss: 0.2994 - val_accuracy: 0.9236\n",
      "Epoch 83/1000\n",
      " 1/26 [>.............................] - ETA: 0s - loss: 0.5928 - accuracy: 0.7734\n",
      "Epoch 83: saving model to model/keypoint_classifier\\keypoint_classifier.hdf5\n",
      "26/26 [==============================] - 0s 3ms/step - loss: 0.5972 - accuracy: 0.7551 - val_loss: 0.2961 - val_accuracy: 0.9282\n",
      "Epoch 84/1000\n",
      " 1/26 [>.............................] - ETA: 0s - loss: 0.5494 - accuracy: 0.7578\n",
      "Epoch 84: saving model to model/keypoint_classifier\\keypoint_classifier.hdf5\n",
      "26/26 [==============================] - 0s 3ms/step - loss: 0.5939 - accuracy: 0.7523 - val_loss: 0.2934 - val_accuracy: 0.9180\n",
      "Epoch 85/1000\n"
     ]
    },
    {
     "name": "stdout",
     "output_type": "stream",
     "text": [
      " 1/26 [>.............................] - ETA: 0s - loss: 0.6540 - accuracy: 0.7266\n",
      "Epoch 85: saving model to model/keypoint_classifier\\keypoint_classifier.hdf5\n",
      "26/26 [==============================] - 0s 3ms/step - loss: 0.6074 - accuracy: 0.7397 - val_loss: 0.2954 - val_accuracy: 0.9273\n",
      "Epoch 86/1000\n",
      " 1/26 [>.............................] - ETA: 0s - loss: 0.5038 - accuracy: 0.7734\n",
      "Epoch 86: saving model to model/keypoint_classifier\\keypoint_classifier.hdf5\n",
      "26/26 [==============================] - 0s 3ms/step - loss: 0.5951 - accuracy: 0.7498 - val_loss: 0.2924 - val_accuracy: 0.9291\n",
      "Epoch 87/1000\n",
      " 1/26 [>.............................] - ETA: 0s - loss: 0.6315 - accuracy: 0.7266\n",
      "Epoch 87: saving model to model/keypoint_classifier\\keypoint_classifier.hdf5\n",
      "26/26 [==============================] - 0s 3ms/step - loss: 0.6052 - accuracy: 0.7324 - val_loss: 0.2907 - val_accuracy: 0.9328\n",
      "Epoch 88/1000\n",
      " 1/26 [>.............................] - ETA: 0s - loss: 0.6566 - accuracy: 0.7344\n",
      "Epoch 88: saving model to model/keypoint_classifier\\keypoint_classifier.hdf5\n",
      "26/26 [==============================] - 0s 3ms/step - loss: 0.5961 - accuracy: 0.7640 - val_loss: 0.2912 - val_accuracy: 0.9346\n",
      "Epoch 89/1000\n",
      " 1/26 [>.............................] - ETA: 0s - loss: 0.5931 - accuracy: 0.7500\n",
      "Epoch 89: saving model to model/keypoint_classifier\\keypoint_classifier.hdf5\n",
      "26/26 [==============================] - 0s 3ms/step - loss: 0.6020 - accuracy: 0.7446 - val_loss: 0.2913 - val_accuracy: 0.9328\n",
      "Epoch 90/1000\n",
      " 1/26 [>.............................] - ETA: 0s - loss: 0.6540 - accuracy: 0.7344\n",
      "Epoch 90: saving model to model/keypoint_classifier\\keypoint_classifier.hdf5\n",
      "26/26 [==============================] - 0s 3ms/step - loss: 0.5918 - accuracy: 0.7575 - val_loss: 0.2894 - val_accuracy: 0.9254\n",
      "Epoch 91/1000\n",
      " 1/26 [>.............................] - ETA: 0s - loss: 0.5166 - accuracy: 0.8203\n",
      "Epoch 91: saving model to model/keypoint_classifier\\keypoint_classifier.hdf5\n",
      "26/26 [==============================] - 0s 3ms/step - loss: 0.5950 - accuracy: 0.7514 - val_loss: 0.2922 - val_accuracy: 0.9190\n",
      "Epoch 92/1000\n",
      " 1/26 [>.............................] - ETA: 0s - loss: 0.6096 - accuracy: 0.7500\n",
      "Epoch 92: saving model to model/keypoint_classifier\\keypoint_classifier.hdf5\n",
      "26/26 [==============================] - 0s 4ms/step - loss: 0.6194 - accuracy: 0.7446 - val_loss: 0.2945 - val_accuracy: 0.9245\n",
      "Epoch 93/1000\n",
      " 1/26 [>.............................] - ETA: 0s - loss: 0.5714 - accuracy: 0.7656\n",
      "Epoch 93: saving model to model/keypoint_classifier\\keypoint_classifier.hdf5\n",
      "26/26 [==============================] - 0s 3ms/step - loss: 0.5867 - accuracy: 0.7541 - val_loss: 0.2838 - val_accuracy: 0.9254\n",
      "Epoch 94/1000\n",
      " 1/26 [>.............................] - ETA: 0s - loss: 0.5304 - accuracy: 0.8047\n",
      "Epoch 94: saving model to model/keypoint_classifier\\keypoint_classifier.hdf5\n",
      "26/26 [==============================] - 0s 3ms/step - loss: 0.5768 - accuracy: 0.7634 - val_loss: 0.2814 - val_accuracy: 0.9401\n",
      "Epoch 95/1000\n",
      " 1/26 [>.............................] - ETA: 0s - loss: 0.7113 - accuracy: 0.6797\n",
      "Epoch 95: saving model to model/keypoint_classifier\\keypoint_classifier.hdf5\n",
      "26/26 [==============================] - 0s 3ms/step - loss: 0.5811 - accuracy: 0.7578 - val_loss: 0.2909 - val_accuracy: 0.9300\n",
      "Epoch 96/1000\n",
      " 1/26 [>.............................] - ETA: 0s - loss: 0.5142 - accuracy: 0.8125\n",
      "Epoch 96: saving model to model/keypoint_classifier\\keypoint_classifier.hdf5\n",
      "26/26 [==============================] - 0s 3ms/step - loss: 0.5735 - accuracy: 0.7673 - val_loss: 0.2889 - val_accuracy: 0.9107\n",
      "Epoch 97/1000\n",
      " 1/26 [>.............................] - ETA: 0s - loss: 0.6065 - accuracy: 0.7422\n",
      "Epoch 97: saving model to model/keypoint_classifier\\keypoint_classifier.hdf5\n",
      "26/26 [==============================] - 0s 3ms/step - loss: 0.5894 - accuracy: 0.7621 - val_loss: 0.2883 - val_accuracy: 0.9144\n",
      "Epoch 98/1000\n",
      " 1/26 [>.............................] - ETA: 0s - loss: 0.5598 - accuracy: 0.7969\n",
      "Epoch 98: saving model to model/keypoint_classifier\\keypoint_classifier.hdf5\n",
      "26/26 [==============================] - 0s 3ms/step - loss: 0.5774 - accuracy: 0.7612 - val_loss: 0.2821 - val_accuracy: 0.9337\n",
      "Epoch 99/1000\n",
      " 1/26 [>.............................] - ETA: 0s - loss: 0.6505 - accuracy: 0.7266\n",
      "Epoch 99: saving model to model/keypoint_classifier\\keypoint_classifier.hdf5\n",
      "26/26 [==============================] - 0s 3ms/step - loss: 0.5759 - accuracy: 0.7704 - val_loss: 0.2750 - val_accuracy: 0.9374\n",
      "Epoch 100/1000\n",
      " 1/26 [>.............................] - ETA: 0s - loss: 0.5603 - accuracy: 0.7656\n",
      "Epoch 100: saving model to model/keypoint_classifier\\keypoint_classifier.hdf5\n",
      "26/26 [==============================] - 0s 3ms/step - loss: 0.5832 - accuracy: 0.7646 - val_loss: 0.2758 - val_accuracy: 0.9273\n",
      "Epoch 101/1000\n",
      " 1/26 [>.............................] - ETA: 0s - loss: 0.5023 - accuracy: 0.8125\n",
      "Epoch 101: saving model to model/keypoint_classifier\\keypoint_classifier.hdf5\n",
      "26/26 [==============================] - 0s 3ms/step - loss: 0.5872 - accuracy: 0.7624 - val_loss: 0.2779 - val_accuracy: 0.9355\n",
      "Epoch 102/1000\n",
      " 1/26 [>.............................] - ETA: 0s - loss: 0.5700 - accuracy: 0.7656\n",
      "Epoch 102: saving model to model/keypoint_classifier\\keypoint_classifier.hdf5\n",
      "26/26 [==============================] - 0s 3ms/step - loss: 0.5862 - accuracy: 0.7541 - val_loss: 0.2825 - val_accuracy: 0.9365\n",
      "Epoch 103/1000\n",
      " 1/26 [>.............................] - ETA: 0s - loss: 0.5009 - accuracy: 0.8203\n",
      "Epoch 103: saving model to model/keypoint_classifier\\keypoint_classifier.hdf5\n",
      "26/26 [==============================] - 0s 3ms/step - loss: 0.5721 - accuracy: 0.7732 - val_loss: 0.2806 - val_accuracy: 0.9263\n",
      "Epoch 104/1000\n",
      " 1/26 [>.............................] - ETA: 0s - loss: 0.4697 - accuracy: 0.8359\n",
      "Epoch 104: saving model to model/keypoint_classifier\\keypoint_classifier.hdf5\n",
      "26/26 [==============================] - 0s 3ms/step - loss: 0.5575 - accuracy: 0.7670 - val_loss: 0.2757 - val_accuracy: 0.9346\n",
      "Epoch 105/1000\n",
      " 1/26 [>.............................] - ETA: 0s - loss: 0.5137 - accuracy: 0.8125\n",
      "Epoch 105: saving model to model/keypoint_classifier\\keypoint_classifier.hdf5\n",
      "26/26 [==============================] - 0s 3ms/step - loss: 0.5619 - accuracy: 0.7750 - val_loss: 0.2724 - val_accuracy: 0.9273\n",
      "Epoch 106/1000\n",
      " 1/26 [>.............................] - ETA: 0s - loss: 0.7062 - accuracy: 0.7500\n",
      "Epoch 106: saving model to model/keypoint_classifier\\keypoint_classifier.hdf5\n",
      "26/26 [==============================] - 0s 3ms/step - loss: 0.5729 - accuracy: 0.7683 - val_loss: 0.2726 - val_accuracy: 0.9411\n",
      "Epoch 107/1000\n",
      " 1/26 [>.............................] - ETA: 0s - loss: 0.7099 - accuracy: 0.6953\n",
      "Epoch 107: saving model to model/keypoint_classifier\\keypoint_classifier.hdf5\n",
      "26/26 [==============================] - 0s 3ms/step - loss: 0.5826 - accuracy: 0.7548 - val_loss: 0.2788 - val_accuracy: 0.9365\n",
      "Epoch 108/1000\n",
      " 1/26 [>.............................] - ETA: 0s - loss: 0.6374 - accuracy: 0.7266\n",
      "Epoch 108: saving model to model/keypoint_classifier\\keypoint_classifier.hdf5\n",
      "26/26 [==============================] - 0s 3ms/step - loss: 0.5730 - accuracy: 0.7634 - val_loss: 0.2705 - val_accuracy: 0.9319\n",
      "Epoch 109/1000\n",
      " 1/26 [>.............................] - ETA: 0s - loss: 0.5975 - accuracy: 0.7656\n",
      "Epoch 109: saving model to model/keypoint_classifier\\keypoint_classifier.hdf5\n",
      "26/26 [==============================] - 0s 3ms/step - loss: 0.5836 - accuracy: 0.7649 - val_loss: 0.2733 - val_accuracy: 0.9401\n",
      "Epoch 110/1000\n",
      " 1/26 [>.............................] - ETA: 0s - loss: 0.5638 - accuracy: 0.7344\n",
      "Epoch 110: saving model to model/keypoint_classifier\\keypoint_classifier.hdf5\n",
      "26/26 [==============================] - 0s 3ms/step - loss: 0.5513 - accuracy: 0.7704 - val_loss: 0.2745 - val_accuracy: 0.9291\n",
      "Epoch 111/1000\n",
      " 1/26 [>.............................] - ETA: 0s - loss: 0.6511 - accuracy: 0.7266\n",
      "Epoch 111: saving model to model/keypoint_classifier\\keypoint_classifier.hdf5\n",
      "26/26 [==============================] - 0s 3ms/step - loss: 0.5587 - accuracy: 0.7707 - val_loss: 0.2671 - val_accuracy: 0.9448\n",
      "Epoch 112/1000\n"
     ]
    },
    {
     "name": "stdout",
     "output_type": "stream",
     "text": [
      " 1/26 [>.............................] - ETA: 0s - loss: 0.6937 - accuracy: 0.7188\n",
      "Epoch 112: saving model to model/keypoint_classifier\\keypoint_classifier.hdf5\n",
      "26/26 [==============================] - 0s 3ms/step - loss: 0.5778 - accuracy: 0.7627 - val_loss: 0.2695 - val_accuracy: 0.9383\n",
      "Epoch 113/1000\n",
      " 1/26 [>.............................] - ETA: 0s - loss: 0.4769 - accuracy: 0.8203\n",
      "Epoch 113: saving model to model/keypoint_classifier\\keypoint_classifier.hdf5\n",
      "26/26 [==============================] - 0s 3ms/step - loss: 0.5779 - accuracy: 0.7597 - val_loss: 0.2773 - val_accuracy: 0.9263\n",
      "Epoch 114/1000\n",
      " 1/26 [>.............................] - ETA: 0s - loss: 0.5821 - accuracy: 0.7734\n",
      "Epoch 114: saving model to model/keypoint_classifier\\keypoint_classifier.hdf5\n",
      "26/26 [==============================] - 0s 3ms/step - loss: 0.5729 - accuracy: 0.7676 - val_loss: 0.2692 - val_accuracy: 0.9401\n",
      "Epoch 115/1000\n",
      " 1/26 [>.............................] - ETA: 0s - loss: 0.7194 - accuracy: 0.6875\n",
      "Epoch 115: saving model to model/keypoint_classifier\\keypoint_classifier.hdf5\n",
      "26/26 [==============================] - 0s 3ms/step - loss: 0.5675 - accuracy: 0.7670 - val_loss: 0.2691 - val_accuracy: 0.9392\n",
      "Epoch 116/1000\n",
      " 1/26 [>.............................] - ETA: 0s - loss: 0.5285 - accuracy: 0.7812\n",
      "Epoch 116: saving model to model/keypoint_classifier\\keypoint_classifier.hdf5\n",
      "26/26 [==============================] - 0s 3ms/step - loss: 0.5740 - accuracy: 0.7713 - val_loss: 0.2767 - val_accuracy: 0.9411\n",
      "Epoch 117/1000\n",
      " 1/26 [>.............................] - ETA: 0s - loss: 0.5506 - accuracy: 0.7578\n",
      "Epoch 117: saving model to model/keypoint_classifier\\keypoint_classifier.hdf5\n",
      "26/26 [==============================] - 0s 3ms/step - loss: 0.5557 - accuracy: 0.7732 - val_loss: 0.2668 - val_accuracy: 0.9457\n",
      "Epoch 118/1000\n",
      " 1/26 [>.............................] - ETA: 0s - loss: 0.5275 - accuracy: 0.7969\n",
      "Epoch 118: saving model to model/keypoint_classifier\\keypoint_classifier.hdf5\n",
      "26/26 [==============================] - 0s 3ms/step - loss: 0.5389 - accuracy: 0.7818 - val_loss: 0.2676 - val_accuracy: 0.9383\n",
      "Epoch 119/1000\n",
      " 1/26 [>.............................] - ETA: 0s - loss: 0.5109 - accuracy: 0.7812\n",
      "Epoch 119: saving model to model/keypoint_classifier\\keypoint_classifier.hdf5\n",
      "26/26 [==============================] - 0s 3ms/step - loss: 0.5668 - accuracy: 0.7637 - val_loss: 0.2662 - val_accuracy: 0.9466\n",
      "Epoch 120/1000\n",
      " 1/26 [>.............................] - ETA: 0s - loss: 0.5134 - accuracy: 0.7656\n",
      "Epoch 120: saving model to model/keypoint_classifier\\keypoint_classifier.hdf5\n",
      "26/26 [==============================] - 0s 3ms/step - loss: 0.5684 - accuracy: 0.7673 - val_loss: 0.2681 - val_accuracy: 0.9355\n",
      "Epoch 121/1000\n",
      " 1/26 [>.............................] - ETA: 0s - loss: 0.5286 - accuracy: 0.8203\n",
      "Epoch 121: saving model to model/keypoint_classifier\\keypoint_classifier.hdf5\n",
      "26/26 [==============================] - 0s 3ms/step - loss: 0.5654 - accuracy: 0.7701 - val_loss: 0.2662 - val_accuracy: 0.9365\n",
      "Epoch 122/1000\n",
      " 1/26 [>.............................] - ETA: 0s - loss: 0.5126 - accuracy: 0.7891\n",
      "Epoch 122: saving model to model/keypoint_classifier\\keypoint_classifier.hdf5\n",
      "26/26 [==============================] - 0s 3ms/step - loss: 0.5520 - accuracy: 0.7729 - val_loss: 0.2618 - val_accuracy: 0.9383\n",
      "Epoch 123/1000\n",
      " 1/26 [>.............................] - ETA: 0s - loss: 0.5587 - accuracy: 0.7969\n",
      "Epoch 123: saving model to model/keypoint_classifier\\keypoint_classifier.hdf5\n",
      "26/26 [==============================] - 0s 3ms/step - loss: 0.5509 - accuracy: 0.7778 - val_loss: 0.2641 - val_accuracy: 0.9337\n",
      "Epoch 124/1000\n",
      " 1/26 [>.............................] - ETA: 0s - loss: 0.5803 - accuracy: 0.7344\n",
      "Epoch 124: saving model to model/keypoint_classifier\\keypoint_classifier.hdf5\n",
      "26/26 [==============================] - 0s 3ms/step - loss: 0.5493 - accuracy: 0.7661 - val_loss: 0.2644 - val_accuracy: 0.9346\n",
      "Epoch 125/1000\n",
      " 1/26 [>.............................] - ETA: 0s - loss: 0.5551 - accuracy: 0.7578\n",
      "Epoch 125: saving model to model/keypoint_classifier\\keypoint_classifier.hdf5\n",
      "26/26 [==============================] - 0s 3ms/step - loss: 0.5345 - accuracy: 0.7759 - val_loss: 0.2633 - val_accuracy: 0.9273\n",
      "Epoch 126/1000\n",
      " 1/26 [>.............................] - ETA: 0s - loss: 0.6085 - accuracy: 0.7969\n",
      "Epoch 126: saving model to model/keypoint_classifier\\keypoint_classifier.hdf5\n",
      "26/26 [==============================] - 0s 3ms/step - loss: 0.5432 - accuracy: 0.7784 - val_loss: 0.2615 - val_accuracy: 0.9401\n",
      "Epoch 127/1000\n",
      " 1/26 [>.............................] - ETA: 0s - loss: 0.4880 - accuracy: 0.7812\n",
      "Epoch 127: saving model to model/keypoint_classifier\\keypoint_classifier.hdf5\n",
      "26/26 [==============================] - 0s 3ms/step - loss: 0.5433 - accuracy: 0.7713 - val_loss: 0.2547 - val_accuracy: 0.9392\n",
      "Epoch 128/1000\n",
      " 1/26 [>.............................] - ETA: 0s - loss: 0.5994 - accuracy: 0.7812\n",
      "Epoch 128: saving model to model/keypoint_classifier\\keypoint_classifier.hdf5\n",
      "26/26 [==============================] - 0s 3ms/step - loss: 0.5521 - accuracy: 0.7732 - val_loss: 0.2540 - val_accuracy: 0.9411\n",
      "Epoch 129/1000\n",
      " 1/26 [>.............................] - ETA: 0s - loss: 0.5575 - accuracy: 0.7578\n",
      "Epoch 129: saving model to model/keypoint_classifier\\keypoint_classifier.hdf5\n",
      "26/26 [==============================] - 0s 3ms/step - loss: 0.5567 - accuracy: 0.7655 - val_loss: 0.2586 - val_accuracy: 0.9319\n",
      "Epoch 130/1000\n",
      " 1/26 [>.............................] - ETA: 0s - loss: 0.5692 - accuracy: 0.7891\n",
      "Epoch 130: saving model to model/keypoint_classifier\\keypoint_classifier.hdf5\n",
      "26/26 [==============================] - 0s 3ms/step - loss: 0.5675 - accuracy: 0.7726 - val_loss: 0.2651 - val_accuracy: 0.9383\n",
      "Epoch 131/1000\n",
      " 1/26 [>.............................] - ETA: 0s - loss: 0.4418 - accuracy: 0.8047\n",
      "Epoch 131: saving model to model/keypoint_classifier\\keypoint_classifier.hdf5\n",
      "26/26 [==============================] - 0s 3ms/step - loss: 0.5304 - accuracy: 0.7833 - val_loss: 0.2600 - val_accuracy: 0.9346\n",
      "Epoch 132/1000\n",
      " 1/26 [>.............................] - ETA: 0s - loss: 0.4559 - accuracy: 0.8281\n",
      "Epoch 132: saving model to model/keypoint_classifier\\keypoint_classifier.hdf5\n",
      "26/26 [==============================] - 0s 3ms/step - loss: 0.5625 - accuracy: 0.7713 - val_loss: 0.2584 - val_accuracy: 0.9273\n",
      "Epoch 133/1000\n",
      " 1/26 [>.............................] - ETA: 0s - loss: 0.6481 - accuracy: 0.7188\n",
      "Epoch 133: saving model to model/keypoint_classifier\\keypoint_classifier.hdf5\n",
      "26/26 [==============================] - 0s 3ms/step - loss: 0.5528 - accuracy: 0.7692 - val_loss: 0.2585 - val_accuracy: 0.9300\n",
      "Epoch 134/1000\n",
      " 1/26 [>.............................] - ETA: 0s - loss: 0.5690 - accuracy: 0.7734\n",
      "Epoch 134: saving model to model/keypoint_classifier\\keypoint_classifier.hdf5\n",
      "26/26 [==============================] - 0s 3ms/step - loss: 0.5379 - accuracy: 0.7762 - val_loss: 0.2626 - val_accuracy: 0.9365\n",
      "Epoch 135/1000\n",
      " 1/26 [>.............................] - ETA: 0s - loss: 0.6453 - accuracy: 0.7344\n",
      "Epoch 135: saving model to model/keypoint_classifier\\keypoint_classifier.hdf5\n",
      "26/26 [==============================] - 0s 3ms/step - loss: 0.5406 - accuracy: 0.7830 - val_loss: 0.2550 - val_accuracy: 0.9346\n",
      "Epoch 136/1000\n",
      " 1/26 [>.............................] - ETA: 0s - loss: 0.5508 - accuracy: 0.7969\n",
      "Epoch 136: saving model to model/keypoint_classifier\\keypoint_classifier.hdf5\n",
      "26/26 [==============================] - 0s 3ms/step - loss: 0.5432 - accuracy: 0.7750 - val_loss: 0.2555 - val_accuracy: 0.9291\n",
      "Epoch 137/1000\n",
      " 1/26 [>.............................] - ETA: 0s - loss: 0.6584 - accuracy: 0.7188\n",
      "Epoch 137: saving model to model/keypoint_classifier\\keypoint_classifier.hdf5\n",
      "26/26 [==============================] - 0s 3ms/step - loss: 0.5443 - accuracy: 0.7750 - val_loss: 0.2578 - val_accuracy: 0.9291\n",
      "Epoch 138/1000\n",
      " 1/26 [>.............................] - ETA: 0s - loss: 0.5320 - accuracy: 0.7812\n",
      "Epoch 138: saving model to model/keypoint_classifier\\keypoint_classifier.hdf5\n",
      "26/26 [==============================] - 0s 3ms/step - loss: 0.5445 - accuracy: 0.7716 - val_loss: 0.2567 - val_accuracy: 0.9346\n"
     ]
    },
    {
     "name": "stdout",
     "output_type": "stream",
     "text": [
      "Epoch 139/1000\n",
      " 1/26 [>.............................] - ETA: 0s - loss: 0.4598 - accuracy: 0.8047\n",
      "Epoch 139: saving model to model/keypoint_classifier\\keypoint_classifier.hdf5\n",
      "26/26 [==============================] - 0s 3ms/step - loss: 0.5179 - accuracy: 0.7925 - val_loss: 0.2532 - val_accuracy: 0.9365\n",
      "Epoch 140/1000\n",
      " 1/26 [>.............................] - ETA: 0s - loss: 0.5726 - accuracy: 0.7812\n",
      "Epoch 140: saving model to model/keypoint_classifier\\keypoint_classifier.hdf5\n",
      "26/26 [==============================] - 0s 3ms/step - loss: 0.5568 - accuracy: 0.7716 - val_loss: 0.2567 - val_accuracy: 0.9383\n",
      "Epoch 141/1000\n",
      " 1/26 [>.............................] - ETA: 0s - loss: 0.4901 - accuracy: 0.8047\n",
      "Epoch 141: saving model to model/keypoint_classifier\\keypoint_classifier.hdf5\n",
      "26/26 [==============================] - 0s 3ms/step - loss: 0.5505 - accuracy: 0.7704 - val_loss: 0.2547 - val_accuracy: 0.9374\n",
      "Epoch 142/1000\n",
      " 1/26 [>.............................] - ETA: 0s - loss: 0.4372 - accuracy: 0.7969\n",
      "Epoch 142: saving model to model/keypoint_classifier\\keypoint_classifier.hdf5\n",
      "26/26 [==============================] - 0s 3ms/step - loss: 0.5380 - accuracy: 0.7778 - val_loss: 0.2551 - val_accuracy: 0.9411\n",
      "Epoch 143/1000\n",
      " 1/26 [>.............................] - ETA: 0s - loss: 0.5120 - accuracy: 0.7812\n",
      "Epoch 143: saving model to model/keypoint_classifier\\keypoint_classifier.hdf5\n",
      "26/26 [==============================] - 0s 3ms/step - loss: 0.5478 - accuracy: 0.7732 - val_loss: 0.2512 - val_accuracy: 0.9355\n",
      "Epoch 144/1000\n",
      " 1/26 [>.............................] - ETA: 0s - loss: 0.4654 - accuracy: 0.7969\n",
      "Epoch 144: saving model to model/keypoint_classifier\\keypoint_classifier.hdf5\n",
      "26/26 [==============================] - 0s 3ms/step - loss: 0.5365 - accuracy: 0.7879 - val_loss: 0.2509 - val_accuracy: 0.9383\n",
      "Epoch 145/1000\n",
      " 1/26 [>.............................] - ETA: 0s - loss: 0.5080 - accuracy: 0.7812\n",
      "Epoch 145: saving model to model/keypoint_classifier\\keypoint_classifier.hdf5\n",
      "26/26 [==============================] - 0s 3ms/step - loss: 0.5456 - accuracy: 0.7744 - val_loss: 0.2509 - val_accuracy: 0.9291\n",
      "Epoch 146/1000\n",
      " 1/26 [>.............................] - ETA: 0s - loss: 0.4781 - accuracy: 0.7656\n",
      "Epoch 146: saving model to model/keypoint_classifier\\keypoint_classifier.hdf5\n",
      "26/26 [==============================] - 0s 3ms/step - loss: 0.5312 - accuracy: 0.7787 - val_loss: 0.2527 - val_accuracy: 0.9346\n",
      "Epoch 147/1000\n",
      " 1/26 [>.............................] - ETA: 0s - loss: 0.4723 - accuracy: 0.7734\n",
      "Epoch 147: saving model to model/keypoint_classifier\\keypoint_classifier.hdf5\n",
      "26/26 [==============================] - 0s 3ms/step - loss: 0.5393 - accuracy: 0.7836 - val_loss: 0.2601 - val_accuracy: 0.9227\n",
      "Epoch 148/1000\n",
      " 1/26 [>.............................] - ETA: 0s - loss: 0.5098 - accuracy: 0.7969\n",
      "Epoch 148: saving model to model/keypoint_classifier\\keypoint_classifier.hdf5\n",
      "26/26 [==============================] - 0s 3ms/step - loss: 0.5253 - accuracy: 0.7888 - val_loss: 0.2541 - val_accuracy: 0.9245\n",
      "Epoch 149/1000\n",
      " 1/26 [>.............................] - ETA: 0s - loss: 0.3940 - accuracy: 0.8672\n",
      "Epoch 149: saving model to model/keypoint_classifier\\keypoint_classifier.hdf5\n",
      "26/26 [==============================] - 0s 3ms/step - loss: 0.5342 - accuracy: 0.7805 - val_loss: 0.2524 - val_accuracy: 0.9254\n",
      "Epoch 150/1000\n",
      " 1/26 [>.............................] - ETA: 0s - loss: 0.5421 - accuracy: 0.8047\n",
      "Epoch 150: saving model to model/keypoint_classifier\\keypoint_classifier.hdf5\n",
      "26/26 [==============================] - 0s 3ms/step - loss: 0.5420 - accuracy: 0.7855 - val_loss: 0.2532 - val_accuracy: 0.9328\n",
      "Epoch 151/1000\n",
      " 1/26 [>.............................] - ETA: 0s - loss: 0.5634 - accuracy: 0.7500\n",
      "Epoch 151: saving model to model/keypoint_classifier\\keypoint_classifier.hdf5\n",
      "26/26 [==============================] - 0s 3ms/step - loss: 0.5395 - accuracy: 0.7821 - val_loss: 0.2516 - val_accuracy: 0.9374\n",
      "Epoch 152/1000\n",
      " 1/26 [>.............................] - ETA: 0s - loss: 0.4798 - accuracy: 0.8125\n",
      "Epoch 152: saving model to model/keypoint_classifier\\keypoint_classifier.hdf5\n",
      "26/26 [==============================] - 0s 3ms/step - loss: 0.5231 - accuracy: 0.7888 - val_loss: 0.2567 - val_accuracy: 0.9337\n",
      "Epoch 153/1000\n",
      " 1/26 [>.............................] - ETA: 0s - loss: 0.5310 - accuracy: 0.8125\n",
      "Epoch 153: saving model to model/keypoint_classifier\\keypoint_classifier.hdf5\n",
      "26/26 [==============================] - 0s 3ms/step - loss: 0.5352 - accuracy: 0.7796 - val_loss: 0.2560 - val_accuracy: 0.9374\n",
      "Epoch 154/1000\n",
      " 1/26 [>.............................] - ETA: 0s - loss: 0.4775 - accuracy: 0.8281\n",
      "Epoch 154: saving model to model/keypoint_classifier\\keypoint_classifier.hdf5\n",
      "26/26 [==============================] - 0s 3ms/step - loss: 0.5290 - accuracy: 0.7885 - val_loss: 0.2568 - val_accuracy: 0.9457\n",
      "Epoch 155/1000\n",
      " 1/26 [>.............................] - ETA: 0s - loss: 0.5310 - accuracy: 0.7578\n",
      "Epoch 155: saving model to model/keypoint_classifier\\keypoint_classifier.hdf5\n",
      "26/26 [==============================] - 0s 3ms/step - loss: 0.5460 - accuracy: 0.7772 - val_loss: 0.2542 - val_accuracy: 0.9365\n",
      "Epoch 156/1000\n",
      " 1/26 [>.............................] - ETA: 0s - loss: 0.5239 - accuracy: 0.8047\n",
      "Epoch 156: saving model to model/keypoint_classifier\\keypoint_classifier.hdf5\n",
      "26/26 [==============================] - 0s 3ms/step - loss: 0.5330 - accuracy: 0.7781 - val_loss: 0.2507 - val_accuracy: 0.9475\n",
      "Epoch 157/1000\n",
      " 1/26 [>.............................] - ETA: 0s - loss: 0.5872 - accuracy: 0.7812\n",
      "Epoch 157: saving model to model/keypoint_classifier\\keypoint_classifier.hdf5\n",
      "26/26 [==============================] - 0s 3ms/step - loss: 0.5388 - accuracy: 0.7833 - val_loss: 0.2492 - val_accuracy: 0.9411\n",
      "Epoch 158/1000\n",
      " 1/26 [>.............................] - ETA: 0s - loss: 0.5140 - accuracy: 0.7969\n",
      "Epoch 158: saving model to model/keypoint_classifier\\keypoint_classifier.hdf5\n",
      "26/26 [==============================] - 0s 3ms/step - loss: 0.5316 - accuracy: 0.7882 - val_loss: 0.2450 - val_accuracy: 0.9429\n",
      "Epoch 159/1000\n",
      " 1/26 [>.............................] - ETA: 0s - loss: 0.5935 - accuracy: 0.7500\n",
      "Epoch 159: saving model to model/keypoint_classifier\\keypoint_classifier.hdf5\n",
      "26/26 [==============================] - 0s 3ms/step - loss: 0.5305 - accuracy: 0.7799 - val_loss: 0.2471 - val_accuracy: 0.9319\n",
      "Epoch 160/1000\n",
      " 1/26 [>.............................] - ETA: 0s - loss: 0.5672 - accuracy: 0.7266\n",
      "Epoch 160: saving model to model/keypoint_classifier\\keypoint_classifier.hdf5\n",
      "26/26 [==============================] - 0s 3ms/step - loss: 0.5322 - accuracy: 0.7762 - val_loss: 0.2495 - val_accuracy: 0.9383\n",
      "Epoch 161/1000\n",
      " 1/26 [>.............................] - ETA: 0s - loss: 0.4838 - accuracy: 0.7969\n",
      "Epoch 161: saving model to model/keypoint_classifier\\keypoint_classifier.hdf5\n",
      "26/26 [==============================] - 0s 3ms/step - loss: 0.5485 - accuracy: 0.7756 - val_loss: 0.2559 - val_accuracy: 0.9291\n",
      "Epoch 162/1000\n",
      " 1/26 [>.............................] - ETA: 0s - loss: 0.5205 - accuracy: 0.7891\n",
      "Epoch 162: saving model to model/keypoint_classifier\\keypoint_classifier.hdf5\n",
      "26/26 [==============================] - 0s 3ms/step - loss: 0.5462 - accuracy: 0.7858 - val_loss: 0.2572 - val_accuracy: 0.9263\n",
      "Epoch 163/1000\n",
      " 1/26 [>.............................] - ETA: 0s - loss: 0.4685 - accuracy: 0.7734\n",
      "Epoch 163: saving model to model/keypoint_classifier\\keypoint_classifier.hdf5\n",
      "26/26 [==============================] - 0s 3ms/step - loss: 0.5447 - accuracy: 0.7848 - val_loss: 0.2531 - val_accuracy: 0.9401\n",
      "Epoch 164/1000\n",
      " 1/26 [>.............................] - ETA: 0s - loss: 0.6362 - accuracy: 0.7188\n",
      "Epoch 164: saving model to model/keypoint_classifier\\keypoint_classifier.hdf5\n",
      "26/26 [==============================] - 0s 3ms/step - loss: 0.5497 - accuracy: 0.7729 - val_loss: 0.2551 - val_accuracy: 0.9337\n",
      "Epoch 165/1000\n",
      " 1/26 [>.............................] - ETA: 0s - loss: 0.5743 - accuracy: 0.7422\n",
      "Epoch 165: saving model to model/keypoint_classifier\\keypoint_classifier.hdf5\n",
      "26/26 [==============================] - 0s 3ms/step - loss: 0.5415 - accuracy: 0.7793 - val_loss: 0.2501 - val_accuracy: 0.9300\n"
     ]
    },
    {
     "name": "stdout",
     "output_type": "stream",
     "text": [
      "Epoch 166/1000\n",
      " 1/26 [>.............................] - ETA: 0s - loss: 0.5099 - accuracy: 0.7891\n",
      "Epoch 166: saving model to model/keypoint_classifier\\keypoint_classifier.hdf5\n",
      "26/26 [==============================] - 0s 3ms/step - loss: 0.5580 - accuracy: 0.7729 - val_loss: 0.2490 - val_accuracy: 0.9365\n",
      "Epoch 167/1000\n",
      " 1/26 [>.............................] - ETA: 0s - loss: 0.5065 - accuracy: 0.8203\n",
      "Epoch 167: saving model to model/keypoint_classifier\\keypoint_classifier.hdf5\n",
      "26/26 [==============================] - 0s 3ms/step - loss: 0.5449 - accuracy: 0.7815 - val_loss: 0.2522 - val_accuracy: 0.9457\n",
      "Epoch 168/1000\n",
      " 1/26 [>.............................] - ETA: 0s - loss: 0.5009 - accuracy: 0.7734\n",
      "Epoch 168: saving model to model/keypoint_classifier\\keypoint_classifier.hdf5\n",
      "26/26 [==============================] - 0s 3ms/step - loss: 0.5358 - accuracy: 0.7867 - val_loss: 0.2551 - val_accuracy: 0.9374\n",
      "Epoch 169/1000\n",
      " 1/26 [>.............................] - ETA: 0s - loss: 0.6045 - accuracy: 0.7656\n",
      "Epoch 169: saving model to model/keypoint_classifier\\keypoint_classifier.hdf5\n",
      "26/26 [==============================] - 0s 3ms/step - loss: 0.5262 - accuracy: 0.7867 - val_loss: 0.2513 - val_accuracy: 0.9365\n",
      "Epoch 170/1000\n",
      " 1/26 [>.............................] - ETA: 0s - loss: 0.5837 - accuracy: 0.7656\n",
      "Epoch 170: saving model to model/keypoint_classifier\\keypoint_classifier.hdf5\n",
      "26/26 [==============================] - 0s 3ms/step - loss: 0.5113 - accuracy: 0.8036 - val_loss: 0.2469 - val_accuracy: 0.9355\n",
      "Epoch 171/1000\n",
      " 1/26 [>.............................] - ETA: 0s - loss: 0.4481 - accuracy: 0.8203\n",
      "Epoch 171: saving model to model/keypoint_classifier\\keypoint_classifier.hdf5\n",
      "26/26 [==============================] - 0s 3ms/step - loss: 0.5323 - accuracy: 0.7848 - val_loss: 0.2530 - val_accuracy: 0.9346\n",
      "Epoch 172/1000\n",
      " 1/26 [>.............................] - ETA: 0s - loss: 0.4680 - accuracy: 0.7891\n",
      "Epoch 172: saving model to model/keypoint_classifier\\keypoint_classifier.hdf5\n",
      "26/26 [==============================] - 0s 3ms/step - loss: 0.5349 - accuracy: 0.7787 - val_loss: 0.2527 - val_accuracy: 0.9392\n",
      "Epoch 173/1000\n",
      " 1/26 [>.............................] - ETA: 0s - loss: 0.6793 - accuracy: 0.7266\n",
      "Epoch 173: saving model to model/keypoint_classifier\\keypoint_classifier.hdf5\n",
      "26/26 [==============================] - 0s 3ms/step - loss: 0.5310 - accuracy: 0.7815 - val_loss: 0.2488 - val_accuracy: 0.9328\n",
      "Epoch 174/1000\n",
      " 1/26 [>.............................] - ETA: 0s - loss: 0.4887 - accuracy: 0.7969\n",
      "Epoch 174: saving model to model/keypoint_classifier\\keypoint_classifier.hdf5\n",
      "26/26 [==============================] - 0s 3ms/step - loss: 0.5425 - accuracy: 0.7839 - val_loss: 0.2529 - val_accuracy: 0.9309\n",
      "Epoch 175/1000\n",
      " 1/26 [>.............................] - ETA: 0s - loss: 0.5000 - accuracy: 0.7578\n",
      "Epoch 175: saving model to model/keypoint_classifier\\keypoint_classifier.hdf5\n",
      "26/26 [==============================] - 0s 3ms/step - loss: 0.5485 - accuracy: 0.7759 - val_loss: 0.2609 - val_accuracy: 0.9282\n",
      "Epoch 176/1000\n",
      " 1/26 [>.............................] - ETA: 0s - loss: 0.5435 - accuracy: 0.7969\n",
      "Epoch 176: saving model to model/keypoint_classifier\\keypoint_classifier.hdf5\n",
      "26/26 [==============================] - 0s 3ms/step - loss: 0.5247 - accuracy: 0.7901 - val_loss: 0.2529 - val_accuracy: 0.9429\n",
      "Epoch 177/1000\n",
      " 1/26 [>.............................] - ETA: 0s - loss: 0.6301 - accuracy: 0.7734\n",
      "Epoch 177: saving model to model/keypoint_classifier\\keypoint_classifier.hdf5\n",
      "26/26 [==============================] - 0s 3ms/step - loss: 0.5293 - accuracy: 0.7934 - val_loss: 0.2443 - val_accuracy: 0.9457\n",
      "Epoch 178/1000\n",
      " 1/26 [>.............................] - ETA: 0s - loss: 0.6077 - accuracy: 0.7266\n",
      "Epoch 178: saving model to model/keypoint_classifier\\keypoint_classifier.hdf5\n",
      "26/26 [==============================] - 0s 3ms/step - loss: 0.5211 - accuracy: 0.7885 - val_loss: 0.2512 - val_accuracy: 0.9273\n",
      "Epoch 179/1000\n",
      " 1/26 [>.............................] - ETA: 0s - loss: 0.5613 - accuracy: 0.7500\n",
      "Epoch 179: saving model to model/keypoint_classifier\\keypoint_classifier.hdf5\n",
      "26/26 [==============================] - 0s 3ms/step - loss: 0.5312 - accuracy: 0.7842 - val_loss: 0.2517 - val_accuracy: 0.9328\n",
      "Epoch 180/1000\n",
      " 1/26 [>.............................] - ETA: 0s - loss: 0.6032 - accuracy: 0.7266\n",
      "Epoch 180: saving model to model/keypoint_classifier\\keypoint_classifier.hdf5\n",
      "26/26 [==============================] - 0s 3ms/step - loss: 0.5193 - accuracy: 0.7901 - val_loss: 0.2554 - val_accuracy: 0.9337\n",
      "Epoch 181/1000\n",
      " 1/26 [>.............................] - ETA: 0s - loss: 0.4704 - accuracy: 0.8047\n",
      "Epoch 181: saving model to model/keypoint_classifier\\keypoint_classifier.hdf5\n",
      "26/26 [==============================] - 0s 3ms/step - loss: 0.5177 - accuracy: 0.7873 - val_loss: 0.2505 - val_accuracy: 0.9365\n",
      "Epoch 182/1000\n",
      " 1/26 [>.............................] - ETA: 0s - loss: 0.5170 - accuracy: 0.7969\n",
      "Epoch 182: saving model to model/keypoint_classifier\\keypoint_classifier.hdf5\n",
      "26/26 [==============================] - 0s 3ms/step - loss: 0.5125 - accuracy: 0.7922 - val_loss: 0.2519 - val_accuracy: 0.9355\n",
      "Epoch 183/1000\n",
      " 1/26 [>.............................] - ETA: 0s - loss: 0.4471 - accuracy: 0.8125\n",
      "Epoch 183: saving model to model/keypoint_classifier\\keypoint_classifier.hdf5\n",
      "26/26 [==============================] - 0s 3ms/step - loss: 0.5399 - accuracy: 0.7812 - val_loss: 0.2477 - val_accuracy: 0.9355\n",
      "Epoch 184/1000\n",
      " 1/26 [>.............................] - ETA: 0s - loss: 0.5467 - accuracy: 0.7812\n",
      "Epoch 184: saving model to model/keypoint_classifier\\keypoint_classifier.hdf5\n",
      "26/26 [==============================] - 0s 3ms/step - loss: 0.5226 - accuracy: 0.7818 - val_loss: 0.2489 - val_accuracy: 0.9365\n",
      "Epoch 185/1000\n",
      " 1/26 [>.............................] - ETA: 0s - loss: 0.4184 - accuracy: 0.8359\n",
      "Epoch 185: saving model to model/keypoint_classifier\\keypoint_classifier.hdf5\n",
      "26/26 [==============================] - 0s 3ms/step - loss: 0.5061 - accuracy: 0.7990 - val_loss: 0.2488 - val_accuracy: 0.9319\n",
      "Epoch 186/1000\n",
      " 1/26 [>.............................] - ETA: 0s - loss: 0.5339 - accuracy: 0.7812\n",
      "Epoch 186: saving model to model/keypoint_classifier\\keypoint_classifier.hdf5\n",
      "26/26 [==============================] - 0s 3ms/step - loss: 0.5089 - accuracy: 0.7959 - val_loss: 0.2519 - val_accuracy: 0.9319\n",
      "Epoch 187/1000\n",
      " 1/26 [>.............................] - ETA: 0s - loss: 0.5410 - accuracy: 0.7734\n",
      "Epoch 187: saving model to model/keypoint_classifier\\keypoint_classifier.hdf5\n",
      "26/26 [==============================] - 0s 3ms/step - loss: 0.5333 - accuracy: 0.7876 - val_loss: 0.2504 - val_accuracy: 0.9383\n",
      "Epoch 188/1000\n",
      " 1/26 [>.............................] - ETA: 0s - loss: 0.5520 - accuracy: 0.7578\n",
      "Epoch 188: saving model to model/keypoint_classifier\\keypoint_classifier.hdf5\n",
      "26/26 [==============================] - 0s 3ms/step - loss: 0.5257 - accuracy: 0.7907 - val_loss: 0.2471 - val_accuracy: 0.9411\n",
      "Epoch 189/1000\n",
      " 1/26 [>.............................] - ETA: 0s - loss: 0.5112 - accuracy: 0.8281\n",
      "Epoch 189: saving model to model/keypoint_classifier\\keypoint_classifier.hdf5\n",
      "26/26 [==============================] - 0s 3ms/step - loss: 0.5269 - accuracy: 0.7925 - val_loss: 0.2430 - val_accuracy: 0.9420\n",
      "Epoch 190/1000\n",
      " 1/26 [>.............................] - ETA: 0s - loss: 0.6064 - accuracy: 0.7969\n",
      "Epoch 190: saving model to model/keypoint_classifier\\keypoint_classifier.hdf5\n",
      "26/26 [==============================] - 0s 3ms/step - loss: 0.5263 - accuracy: 0.7885 - val_loss: 0.2552 - val_accuracy: 0.9337\n",
      "Epoch 191/1000\n",
      " 1/26 [>.............................] - ETA: 0s - loss: 0.5576 - accuracy: 0.8359\n",
      "Epoch 191: saving model to model/keypoint_classifier\\keypoint_classifier.hdf5\n",
      "26/26 [==============================] - 0s 3ms/step - loss: 0.5236 - accuracy: 0.7968 - val_loss: 0.2511 - val_accuracy: 0.9392\n",
      "Epoch 192/1000\n",
      " 1/26 [>.............................] - ETA: 0s - loss: 0.5030 - accuracy: 0.8047\n",
      "Epoch 192: saving model to model/keypoint_classifier\\keypoint_classifier.hdf5\n",
      "26/26 [==============================] - 0s 3ms/step - loss: 0.5278 - accuracy: 0.7858 - val_loss: 0.2484 - val_accuracy: 0.9401\n"
     ]
    },
    {
     "name": "stdout",
     "output_type": "stream",
     "text": [
      "Epoch 193/1000\n",
      " 1/26 [>.............................] - ETA: 0s - loss: 0.5445 - accuracy: 0.7891\n",
      "Epoch 193: saving model to model/keypoint_classifier\\keypoint_classifier.hdf5\n",
      "26/26 [==============================] - 0s 3ms/step - loss: 0.5373 - accuracy: 0.7827 - val_loss: 0.2549 - val_accuracy: 0.9401\n",
      "Epoch 194/1000\n",
      " 1/26 [>.............................] - ETA: 0s - loss: 0.5328 - accuracy: 0.7500\n",
      "Epoch 194: saving model to model/keypoint_classifier\\keypoint_classifier.hdf5\n",
      "26/26 [==============================] - 0s 3ms/step - loss: 0.5244 - accuracy: 0.7851 - val_loss: 0.2536 - val_accuracy: 0.9346\n",
      "Epoch 195/1000\n",
      " 1/26 [>.............................] - ETA: 0s - loss: 0.5103 - accuracy: 0.8125\n",
      "Epoch 195: saving model to model/keypoint_classifier\\keypoint_classifier.hdf5\n",
      "26/26 [==============================] - 0s 3ms/step - loss: 0.5263 - accuracy: 0.7913 - val_loss: 0.2562 - val_accuracy: 0.9383\n",
      "Epoch 196/1000\n",
      " 1/26 [>.............................] - ETA: 0s - loss: 0.5051 - accuracy: 0.8125\n",
      "Epoch 196: saving model to model/keypoint_classifier\\keypoint_classifier.hdf5\n",
      "26/26 [==============================] - 0s 3ms/step - loss: 0.5209 - accuracy: 0.7864 - val_loss: 0.2463 - val_accuracy: 0.9291\n",
      "Epoch 197/1000\n",
      " 1/26 [>.............................] - ETA: 0s - loss: 0.5802 - accuracy: 0.7266\n",
      "Epoch 197: saving model to model/keypoint_classifier\\keypoint_classifier.hdf5\n",
      "26/26 [==============================] - 0s 3ms/step - loss: 0.5146 - accuracy: 0.7907 - val_loss: 0.2477 - val_accuracy: 0.9420\n",
      "Epoch 198/1000\n",
      " 1/26 [>.............................] - ETA: 0s - loss: 0.6001 - accuracy: 0.7422\n",
      "Epoch 198: saving model to model/keypoint_classifier\\keypoint_classifier.hdf5\n",
      "26/26 [==============================] - 0s 3ms/step - loss: 0.4999 - accuracy: 0.7993 - val_loss: 0.2473 - val_accuracy: 0.9411\n",
      "Epoch 199/1000\n",
      " 1/26 [>.............................] - ETA: 0s - loss: 0.4716 - accuracy: 0.7891\n",
      "Epoch 199: saving model to model/keypoint_classifier\\keypoint_classifier.hdf5\n",
      "26/26 [==============================] - 0s 3ms/step - loss: 0.5050 - accuracy: 0.7848 - val_loss: 0.2480 - val_accuracy: 0.9392\n",
      "Epoch 200/1000\n",
      " 1/26 [>.............................] - ETA: 0s - loss: 0.4962 - accuracy: 0.7891\n",
      "Epoch 200: saving model to model/keypoint_classifier\\keypoint_classifier.hdf5\n",
      "26/26 [==============================] - 0s 3ms/step - loss: 0.5185 - accuracy: 0.7934 - val_loss: 0.2408 - val_accuracy: 0.9328\n",
      "Epoch 201/1000\n",
      " 1/26 [>.............................] - ETA: 0s - loss: 0.4712 - accuracy: 0.8047\n",
      "Epoch 201: saving model to model/keypoint_classifier\\keypoint_classifier.hdf5\n",
      "26/26 [==============================] - 0s 3ms/step - loss: 0.5152 - accuracy: 0.7904 - val_loss: 0.2475 - val_accuracy: 0.9401\n",
      "Epoch 202/1000\n",
      " 1/26 [>.............................] - ETA: 0s - loss: 0.4646 - accuracy: 0.7969\n",
      "Epoch 202: saving model to model/keypoint_classifier\\keypoint_classifier.hdf5\n",
      "26/26 [==============================] - 0s 4ms/step - loss: 0.5169 - accuracy: 0.7934 - val_loss: 0.2472 - val_accuracy: 0.9429\n",
      "Epoch 203/1000\n",
      " 1/26 [>.............................] - ETA: 0s - loss: 0.4309 - accuracy: 0.8359\n",
      "Epoch 203: saving model to model/keypoint_classifier\\keypoint_classifier.hdf5\n",
      "26/26 [==============================] - 0s 3ms/step - loss: 0.5146 - accuracy: 0.7922 - val_loss: 0.2452 - val_accuracy: 0.9420\n",
      "Epoch 204/1000\n",
      " 1/26 [>.............................] - ETA: 0s - loss: 0.5857 - accuracy: 0.7422\n",
      "Epoch 204: saving model to model/keypoint_classifier\\keypoint_classifier.hdf5\n",
      "26/26 [==============================] - 0s 3ms/step - loss: 0.5291 - accuracy: 0.7845 - val_loss: 0.2452 - val_accuracy: 0.9401\n",
      "Epoch 205/1000\n",
      " 1/26 [>.............................] - ETA: 0s - loss: 0.4836 - accuracy: 0.8203\n",
      "Epoch 205: saving model to model/keypoint_classifier\\keypoint_classifier.hdf5\n",
      "26/26 [==============================] - 0s 3ms/step - loss: 0.5287 - accuracy: 0.7827 - val_loss: 0.2460 - val_accuracy: 0.9401\n",
      "Epoch 206/1000\n",
      " 1/26 [>.............................] - ETA: 0s - loss: 0.4732 - accuracy: 0.8047\n",
      "Epoch 206: saving model to model/keypoint_classifier\\keypoint_classifier.hdf5\n",
      "26/26 [==============================] - 0s 3ms/step - loss: 0.5163 - accuracy: 0.7796 - val_loss: 0.2413 - val_accuracy: 0.9438\n",
      "Epoch 207/1000\n",
      " 1/26 [>.............................] - ETA: 0s - loss: 0.6585 - accuracy: 0.7656\n",
      "Epoch 207: saving model to model/keypoint_classifier\\keypoint_classifier.hdf5\n",
      "26/26 [==============================] - 0s 3ms/step - loss: 0.5221 - accuracy: 0.7827 - val_loss: 0.2479 - val_accuracy: 0.9448\n",
      "Epoch 208/1000\n",
      " 1/26 [>.............................] - ETA: 0s - loss: 0.4952 - accuracy: 0.7812\n",
      "Epoch 208: saving model to model/keypoint_classifier\\keypoint_classifier.hdf5\n",
      "26/26 [==============================] - 0s 3ms/step - loss: 0.5284 - accuracy: 0.7885 - val_loss: 0.2595 - val_accuracy: 0.9411\n",
      "Epoch 209/1000\n",
      " 1/26 [>.............................] - ETA: 0s - loss: 0.4708 - accuracy: 0.8281\n",
      "Epoch 209: saving model to model/keypoint_classifier\\keypoint_classifier.hdf5\n",
      "26/26 [==============================] - 0s 3ms/step - loss: 0.5086 - accuracy: 0.7980 - val_loss: 0.2557 - val_accuracy: 0.9411\n",
      "Epoch 210/1000\n",
      " 1/26 [>.............................] - ETA: 0s - loss: 0.5611 - accuracy: 0.7812\n",
      "Epoch 210: saving model to model/keypoint_classifier\\keypoint_classifier.hdf5\n",
      "26/26 [==============================] - 0s 3ms/step - loss: 0.5059 - accuracy: 0.8005 - val_loss: 0.2445 - val_accuracy: 0.9429\n",
      "Epoch 211/1000\n",
      " 1/26 [>.............................] - ETA: 0s - loss: 0.4663 - accuracy: 0.8438\n",
      "Epoch 211: saving model to model/keypoint_classifier\\keypoint_classifier.hdf5\n",
      "26/26 [==============================] - 0s 3ms/step - loss: 0.5223 - accuracy: 0.7873 - val_loss: 0.2492 - val_accuracy: 0.9411\n",
      "Epoch 212/1000\n",
      " 1/26 [>.............................] - ETA: 0s - loss: 0.4322 - accuracy: 0.8125\n",
      "Epoch 212: saving model to model/keypoint_classifier\\keypoint_classifier.hdf5\n",
      "26/26 [==============================] - 0s 3ms/step - loss: 0.5065 - accuracy: 0.7971 - val_loss: 0.2439 - val_accuracy: 0.9411\n",
      "Epoch 213/1000\n",
      " 1/26 [>.............................] - ETA: 0s - loss: 0.4754 - accuracy: 0.7812\n",
      "Epoch 213: saving model to model/keypoint_classifier\\keypoint_classifier.hdf5\n",
      "26/26 [==============================] - 0s 3ms/step - loss: 0.5083 - accuracy: 0.7956 - val_loss: 0.2468 - val_accuracy: 0.9438\n",
      "Epoch 214/1000\n",
      " 1/26 [>.............................] - ETA: 0s - loss: 0.5529 - accuracy: 0.7578\n",
      "Epoch 214: saving model to model/keypoint_classifier\\keypoint_classifier.hdf5\n",
      "26/26 [==============================] - 0s 3ms/step - loss: 0.4979 - accuracy: 0.8054 - val_loss: 0.2441 - val_accuracy: 0.9411\n",
      "Epoch 215/1000\n",
      " 1/26 [>.............................] - ETA: 0s - loss: 0.3763 - accuracy: 0.8516\n",
      "Epoch 215: saving model to model/keypoint_classifier\\keypoint_classifier.hdf5\n",
      "26/26 [==============================] - 0s 3ms/step - loss: 0.4948 - accuracy: 0.7971 - val_loss: 0.2395 - val_accuracy: 0.9475\n",
      "Epoch 216/1000\n",
      " 1/26 [>.............................] - ETA: 0s - loss: 0.4581 - accuracy: 0.8203\n",
      "Epoch 216: saving model to model/keypoint_classifier\\keypoint_classifier.hdf5\n",
      "26/26 [==============================] - 0s 4ms/step - loss: 0.4996 - accuracy: 0.8039 - val_loss: 0.2406 - val_accuracy: 0.9420\n",
      "Epoch 217/1000\n",
      " 1/26 [>.............................] - ETA: 0s - loss: 0.3917 - accuracy: 0.8438\n",
      "Epoch 217: saving model to model/keypoint_classifier\\keypoint_classifier.hdf5\n",
      "26/26 [==============================] - 0s 3ms/step - loss: 0.5004 - accuracy: 0.7950 - val_loss: 0.2378 - val_accuracy: 0.9383\n",
      "Epoch 218/1000\n",
      " 1/26 [>.............................] - ETA: 0s - loss: 0.4458 - accuracy: 0.8125\n",
      "Epoch 218: saving model to model/keypoint_classifier\\keypoint_classifier.hdf5\n",
      "26/26 [==============================] - 0s 3ms/step - loss: 0.5223 - accuracy: 0.7928 - val_loss: 0.2403 - val_accuracy: 0.9420\n",
      "Epoch 219/1000\n",
      " 1/26 [>.............................] - ETA: 0s - loss: 0.4951 - accuracy: 0.8125\n",
      "Epoch 219: saving model to model/keypoint_classifier\\keypoint_classifier.hdf5\n",
      "26/26 [==============================] - 0s 3ms/step - loss: 0.5045 - accuracy: 0.7980 - val_loss: 0.2419 - val_accuracy: 0.9383\n"
     ]
    },
    {
     "name": "stdout",
     "output_type": "stream",
     "text": [
      "Epoch 220/1000\n",
      " 1/26 [>.............................] - ETA: 0s - loss: 0.3915 - accuracy: 0.8125\n",
      "Epoch 220: saving model to model/keypoint_classifier\\keypoint_classifier.hdf5\n",
      "26/26 [==============================] - 0s 3ms/step - loss: 0.5060 - accuracy: 0.7947 - val_loss: 0.2461 - val_accuracy: 0.9392\n",
      "Epoch 221/1000\n",
      " 1/26 [>.............................] - ETA: 0s - loss: 0.5096 - accuracy: 0.7969\n",
      "Epoch 221: saving model to model/keypoint_classifier\\keypoint_classifier.hdf5\n",
      "26/26 [==============================] - 0s 3ms/step - loss: 0.5183 - accuracy: 0.8033 - val_loss: 0.2503 - val_accuracy: 0.9420\n",
      "Epoch 222/1000\n",
      " 1/26 [>.............................] - ETA: 0s - loss: 0.4676 - accuracy: 0.8203\n",
      "Epoch 222: saving model to model/keypoint_classifier\\keypoint_classifier.hdf5\n",
      "26/26 [==============================] - 0s 3ms/step - loss: 0.4998 - accuracy: 0.8017 - val_loss: 0.2418 - val_accuracy: 0.9346\n",
      "Epoch 223/1000\n",
      " 1/26 [>.............................] - ETA: 0s - loss: 0.3946 - accuracy: 0.8203\n",
      "Epoch 223: saving model to model/keypoint_classifier\\keypoint_classifier.hdf5\n",
      "26/26 [==============================] - 0s 3ms/step - loss: 0.5033 - accuracy: 0.7962 - val_loss: 0.2359 - val_accuracy: 0.9383\n",
      "Epoch 224/1000\n",
      " 1/26 [>.............................] - ETA: 0s - loss: 0.6025 - accuracy: 0.8125\n",
      "Epoch 224: saving model to model/keypoint_classifier\\keypoint_classifier.hdf5\n",
      "26/26 [==============================] - 0s 3ms/step - loss: 0.4869 - accuracy: 0.8011 - val_loss: 0.2400 - val_accuracy: 0.9401\n",
      "Epoch 225/1000\n",
      " 1/26 [>.............................] - ETA: 0s - loss: 0.4925 - accuracy: 0.8281\n",
      "Epoch 225: saving model to model/keypoint_classifier\\keypoint_classifier.hdf5\n",
      "26/26 [==============================] - 0s 3ms/step - loss: 0.4870 - accuracy: 0.8085 - val_loss: 0.2350 - val_accuracy: 0.9383\n",
      "Epoch 226/1000\n",
      " 1/26 [>.............................] - ETA: 0s - loss: 0.5924 - accuracy: 0.7500\n",
      "Epoch 226: saving model to model/keypoint_classifier\\keypoint_classifier.hdf5\n",
      "26/26 [==============================] - 0s 3ms/step - loss: 0.5124 - accuracy: 0.7913 - val_loss: 0.2437 - val_accuracy: 0.9392\n",
      "Epoch 227/1000\n",
      " 1/26 [>.............................] - ETA: 0s - loss: 0.6196 - accuracy: 0.7734\n",
      "Epoch 227: saving model to model/keypoint_classifier\\keypoint_classifier.hdf5\n",
      "26/26 [==============================] - 0s 3ms/step - loss: 0.4979 - accuracy: 0.7931 - val_loss: 0.2337 - val_accuracy: 0.9429\n",
      "Epoch 228/1000\n",
      " 1/26 [>.............................] - ETA: 0s - loss: 0.5206 - accuracy: 0.7969\n",
      "Epoch 228: saving model to model/keypoint_classifier\\keypoint_classifier.hdf5\n",
      "26/26 [==============================] - 0s 3ms/step - loss: 0.5138 - accuracy: 0.7974 - val_loss: 0.2370 - val_accuracy: 0.9420\n",
      "Epoch 229/1000\n",
      " 1/26 [>.............................] - ETA: 0s - loss: 0.5087 - accuracy: 0.7422\n",
      "Epoch 229: saving model to model/keypoint_classifier\\keypoint_classifier.hdf5\n",
      "26/26 [==============================] - 0s 3ms/step - loss: 0.5093 - accuracy: 0.7894 - val_loss: 0.2514 - val_accuracy: 0.9383\n",
      "Epoch 230/1000\n",
      " 1/26 [>.............................] - ETA: 0s - loss: 0.4771 - accuracy: 0.8203\n",
      "Epoch 230: saving model to model/keypoint_classifier\\keypoint_classifier.hdf5\n",
      "26/26 [==============================] - 0s 3ms/step - loss: 0.5027 - accuracy: 0.8002 - val_loss: 0.2398 - val_accuracy: 0.9420\n",
      "Epoch 231/1000\n",
      " 1/26 [>.............................] - ETA: 0s - loss: 0.5559 - accuracy: 0.7266\n",
      "Epoch 231: saving model to model/keypoint_classifier\\keypoint_classifier.hdf5\n",
      "26/26 [==============================] - 0s 3ms/step - loss: 0.4977 - accuracy: 0.7940 - val_loss: 0.2431 - val_accuracy: 0.9374\n",
      "Epoch 232/1000\n",
      " 1/26 [>.............................] - ETA: 0s - loss: 0.4845 - accuracy: 0.8281\n",
      "Epoch 232: saving model to model/keypoint_classifier\\keypoint_classifier.hdf5\n",
      "26/26 [==============================] - 0s 3ms/step - loss: 0.4981 - accuracy: 0.8060 - val_loss: 0.2443 - val_accuracy: 0.9374\n",
      "Epoch 233/1000\n",
      " 1/26 [>.............................] - ETA: 0s - loss: 0.6573 - accuracy: 0.7734\n",
      "Epoch 233: saving model to model/keypoint_classifier\\keypoint_classifier.hdf5\n",
      "26/26 [==============================] - 0s 3ms/step - loss: 0.5160 - accuracy: 0.7928 - val_loss: 0.2449 - val_accuracy: 0.9429\n",
      "Epoch 234/1000\n",
      " 1/26 [>.............................] - ETA: 0s - loss: 0.3850 - accuracy: 0.8516\n",
      "Epoch 234: saving model to model/keypoint_classifier\\keypoint_classifier.hdf5\n",
      "26/26 [==============================] - 0s 3ms/step - loss: 0.5103 - accuracy: 0.7962 - val_loss: 0.2525 - val_accuracy: 0.9365\n",
      "Epoch 235/1000\n",
      " 1/26 [>.............................] - ETA: 0s - loss: 0.6057 - accuracy: 0.8047\n",
      "Epoch 235: saving model to model/keypoint_classifier\\keypoint_classifier.hdf5\n",
      "26/26 [==============================] - 0s 3ms/step - loss: 0.4943 - accuracy: 0.8029 - val_loss: 0.2461 - val_accuracy: 0.9383\n",
      "Epoch 236/1000\n",
      " 1/26 [>.............................] - ETA: 0s - loss: 0.6300 - accuracy: 0.7109\n",
      "Epoch 236: saving model to model/keypoint_classifier\\keypoint_classifier.hdf5\n",
      "26/26 [==============================] - 0s 3ms/step - loss: 0.4987 - accuracy: 0.8029 - val_loss: 0.2436 - val_accuracy: 0.9401\n",
      "Epoch 237/1000\n",
      " 1/26 [>.............................] - ETA: 0s - loss: 0.4966 - accuracy: 0.7891\n",
      "Epoch 237: saving model to model/keypoint_classifier\\keypoint_classifier.hdf5\n",
      "26/26 [==============================] - 0s 3ms/step - loss: 0.5019 - accuracy: 0.8005 - val_loss: 0.2445 - val_accuracy: 0.9337\n",
      "Epoch 238/1000\n",
      " 1/26 [>.............................] - ETA: 0s - loss: 0.4511 - accuracy: 0.8281\n",
      "Epoch 238: saving model to model/keypoint_classifier\\keypoint_classifier.hdf5\n",
      "26/26 [==============================] - 0s 3ms/step - loss: 0.5192 - accuracy: 0.7913 - val_loss: 0.2520 - val_accuracy: 0.9420\n",
      "Epoch 239/1000\n",
      " 1/26 [>.............................] - ETA: 0s - loss: 0.4692 - accuracy: 0.7969\n",
      "Epoch 239: saving model to model/keypoint_classifier\\keypoint_classifier.hdf5\n",
      "26/26 [==============================] - 0s 3ms/step - loss: 0.4930 - accuracy: 0.7947 - val_loss: 0.2533 - val_accuracy: 0.9374\n",
      "Epoch 240/1000\n",
      " 1/26 [>.............................] - ETA: 0s - loss: 0.5320 - accuracy: 0.7578\n",
      "Epoch 240: saving model to model/keypoint_classifier\\keypoint_classifier.hdf5\n",
      "26/26 [==============================] - 0s 3ms/step - loss: 0.4962 - accuracy: 0.8091 - val_loss: 0.2403 - val_accuracy: 0.9383\n",
      "Epoch 241/1000\n",
      " 1/26 [>.............................] - ETA: 0s - loss: 0.5562 - accuracy: 0.8047\n",
      "Epoch 241: saving model to model/keypoint_classifier\\keypoint_classifier.hdf5\n",
      "26/26 [==============================] - 0s 3ms/step - loss: 0.5102 - accuracy: 0.7950 - val_loss: 0.2476 - val_accuracy: 0.9401\n",
      "Epoch 242/1000\n",
      " 1/26 [>.............................] - ETA: 0s - loss: 0.6723 - accuracy: 0.7500\n",
      "Epoch 242: saving model to model/keypoint_classifier\\keypoint_classifier.hdf5\n",
      "26/26 [==============================] - 0s 3ms/step - loss: 0.4909 - accuracy: 0.7986 - val_loss: 0.2434 - val_accuracy: 0.9401\n",
      "Epoch 243/1000\n",
      " 1/26 [>.............................] - ETA: 0s - loss: 0.4402 - accuracy: 0.8203\n",
      "Epoch 243: saving model to model/keypoint_classifier\\keypoint_classifier.hdf5\n",
      "26/26 [==============================] - 0s 3ms/step - loss: 0.5128 - accuracy: 0.8008 - val_loss: 0.2543 - val_accuracy: 0.9411\n",
      "Epoch 244/1000\n",
      " 1/26 [>.............................] - ETA: 0s - loss: 0.5747 - accuracy: 0.7734\n",
      "Epoch 244: saving model to model/keypoint_classifier\\keypoint_classifier.hdf5\n",
      "26/26 [==============================] - 0s 3ms/step - loss: 0.5109 - accuracy: 0.7922 - val_loss: 0.2442 - val_accuracy: 0.9383\n",
      "Epoch 245/1000\n",
      " 1/26 [>.............................] - ETA: 0s - loss: 0.5359 - accuracy: 0.7969\n",
      "Epoch 245: saving model to model/keypoint_classifier\\keypoint_classifier.hdf5\n",
      "26/26 [==============================] - 0s 3ms/step - loss: 0.4949 - accuracy: 0.7986 - val_loss: 0.2510 - val_accuracy: 0.9383\n",
      "Epoch 246/1000\n",
      " 1/26 [>.............................] - ETA: 0s - loss: 0.6138 - accuracy: 0.8047\n",
      "Epoch 246: saving model to model/keypoint_classifier\\keypoint_classifier.hdf5\n",
      "26/26 [==============================] - 0s 3ms/step - loss: 0.5238 - accuracy: 0.7950 - val_loss: 0.2498 - val_accuracy: 0.9365\n"
     ]
    },
    {
     "name": "stdout",
     "output_type": "stream",
     "text": [
      "Epoch 247/1000\n",
      " 1/26 [>.............................] - ETA: 0s - loss: 0.4853 - accuracy: 0.8203\n",
      "Epoch 247: saving model to model/keypoint_classifier\\keypoint_classifier.hdf5\n",
      "26/26 [==============================] - 0s 3ms/step - loss: 0.4925 - accuracy: 0.8042 - val_loss: 0.2499 - val_accuracy: 0.9291\n",
      "Epoch 247: early stopping\n"
     ]
    },
    {
     "data": {
      "text/plain": [
       "<keras.src.callbacks.History at 0x22e449d2d70>"
      ]
     },
     "execution_count": 11,
     "metadata": {},
     "output_type": "execute_result"
    }
   ],
   "source": [
    "model.fit(\n",
    "    X_train,\n",
    "    y_train,\n",
    "    epochs=1000,\n",
    "    batch_size=128,\n",
    "    validation_data=(X_test, y_test),\n",
    "    callbacks=[cp_callback, es_callback]\n",
    ")"
   ]
  },
  {
   "cell_type": "code",
   "execution_count": 12,
   "metadata": {
    "colab": {
     "base_uri": "https://localhost:8080/"
    },
    "id": "pxvb2Y299hE3",
    "outputId": "59eb3185-2e37-4b9e-bc9d-ab1b8ac29b7f"
   },
   "outputs": [
    {
     "name": "stdout",
     "output_type": "stream",
     "text": [
      "9/9 [==============================] - 0s 981us/step - loss: 0.2499 - accuracy: 0.9291\n"
     ]
    }
   ],
   "source": [
    "# Model evaluation\n",
    "val_loss, val_acc = model.evaluate(X_test, y_test, batch_size=128)"
   ]
  },
  {
   "cell_type": "code",
   "execution_count": 13,
   "metadata": {
    "id": "RBkmDeUW9hE4"
   },
   "outputs": [],
   "source": [
    "# Loading the saved model\n",
    "model = tf.keras.models.load_model(model_save_path)"
   ]
  },
  {
   "cell_type": "code",
   "execution_count": 14,
   "metadata": {
    "colab": {
     "base_uri": "https://localhost:8080/"
    },
    "id": "tFz9Tb0I9hE4",
    "outputId": "1c3b3528-54ae-4ee2-ab04-77429211cbef"
   },
   "outputs": [
    {
     "name": "stdout",
     "output_type": "stream",
     "text": [
      "1/1 [==============================] - 0s 71ms/step\n",
      "[2.2139594e-02 9.5782727e-01 5.1671490e-05 1.9175438e-02 7.9747749e-04\n",
      " 8.5531310e-06]\n",
      "1\n"
     ]
    }
   ],
   "source": [
    "# Inference test\n",
    "predict_result = model.predict(np.array([X_test[0]]))\n",
    "print(np.squeeze(predict_result))\n",
    "print(np.argmax(np.squeeze(predict_result)))"
   ]
  },
  {
   "cell_type": "markdown",
   "metadata": {
    "id": "S3U4yNWx9hE4"
   },
   "source": [
    "# Confusion matrix"
   ]
  },
  {
   "cell_type": "code",
   "execution_count": 15,
   "metadata": {
    "colab": {
     "base_uri": "https://localhost:8080/",
     "height": 582
    },
    "id": "AP1V6SCk9hE5",
    "outputId": "08e41a80-7a4a-4619-8125-ecc371368d19"
   },
   "outputs": [
    {
     "name": "stdout",
     "output_type": "stream",
     "text": [
      "34/34 [==============================] - 0s 676us/step\n"
     ]
    },
    {
     "data": {
      "image/png": "[encoded data removed]",
      "text/plain": [
       "<Figure size 700x600 with 2 Axes>"
      ]
     },
     "metadata": {},
     "output_type": "display_data"
    },
    {
     "name": "stdout",
     "output_type": "stream",
     "text": [
      "Classification Report\n",
      "              precision    recall  f1-score   support\n",
      "\n",
      "           0       0.98      1.00      0.99       418\n",
      "           1       0.98      0.96      0.97       367\n",
      "           2       0.58      0.96      0.72        91\n",
      "           3       1.00      0.99      0.99        85\n",
      "           4       1.00      0.98      0.99        58\n",
      "           5       0.92      0.16      0.28        67\n",
      "\n",
      "    accuracy                           0.93      1086\n",
      "   macro avg       0.91      0.84      0.82      1086\n",
      "weighted avg       0.95      0.93      0.92      1086\n",
      "\n"
     ]
    }
   ],
   "source": [
    "import pandas as pd\n",
    "import seaborn as sns\n",
    "import matplotlib.pyplot as plt\n",
    "from sklearn.metrics import confusion_matrix, classification_report\n",
    "\n",
    "def print_confusion_matrix(y_true, y_pred, report=True):\n",
    "    labels = sorted(list(set(y_true)))\n",
    "    cmx_data = confusion_matrix(y_true, y_pred, labels=labels)\n",
    "    \n",
    "    df_cmx = pd.DataFrame(cmx_data, index=labels, columns=labels)\n",
    " \n",
    "    fig, ax = plt.subplots(figsize=(7, 6))\n",
    "    sns.heatmap(df_cmx, annot=True, fmt='g' ,square=False)\n",
    "    ax.set_ylim(len(set(y_true)), 0)\n",
    "    plt.show()\n",
    "    \n",
    "    if report:\n",
    "        print('Classification Report')\n",
    "        print(classification_report(y_test, y_pred))\n",
    "\n",
    "Y_pred = model.predict(X_test)\n",
    "y_pred = np.argmax(Y_pred, axis=1)\n",
    "\n",
    "print_confusion_matrix(y_test, y_pred)"
   ]
  },
  {
   "cell_type": "markdown",
   "metadata": {
    "id": "FNP6aqzc9hE5"
   },
   "source": [
    "# Convert to model for Tensorflow-Lite"
   ]
  },
  {
   "cell_type": "code",
   "execution_count": 16,
   "metadata": {
    "id": "ODjnYyld9hE6"
   },
   "outputs": [
    {
     "name": "stderr",
     "output_type": "stream",
     "text": [
      "D:\\anaconda\\lib\\site-packages\\keras\\src\\engine\\training.py:3000: UserWarning: You are saving your model as an HDF5 file via `model.save()`. This file format is considered legacy. We recommend using instead the native Keras format, e.g. `model.save('my_model.keras')`.\n",
      "  saving_api.save_model(\n"
     ]
    }
   ],
   "source": [
    "# Save as a model dedicated to inference\n",
    "model.save(model_save_path, include_optimizer=False)"
   ]
  },
  {
   "cell_type": "code",
   "execution_count": 17,
   "metadata": {
    "colab": {
     "base_uri": "https://localhost:8080/"
    },
    "id": "zRfuK8Y59hE6",
    "outputId": "a4ca585c-b5d5-4244-8291-8674063209bb"
   },
   "outputs": [
    {
     "name": "stdout",
     "output_type": "stream",
     "text": [
      "INFO:tensorflow:Assets written to: C:\\Users\\harsh\\AppData\\Local\\Temp\\tmpnfkg294j\\assets\n"
     ]
    },
    {
     "name": "stderr",
     "output_type": "stream",
     "text": [
      "INFO:tensorflow:Assets written to: C:\\Users\\harsh\\AppData\\Local\\Temp\\tmpnfkg294j\\assets\n"
     ]
    },
    {
     "data": {
      "text/plain": [
       "6632"
      ]
     },
     "execution_count": 17,
     "metadata": {},
     "output_type": "execute_result"
    }
   ],
   "source": [
    "# Transform model (quantization)\n",
    "\n",
    "converter = tf.lite.TFLiteConverter.from_keras_model(model)\n",
    "converter.optimizations = [tf.lite.Optimize.DEFAULT]\n",
    "tflite_quantized_model = converter.convert()\n",
    "\n",
    "open(tflite_save_path, 'wb').write(tflite_quantized_model)"
   ]
  },
  {
   "cell_type": "markdown",
   "metadata": {
    "id": "CHBPBXdx9hE6"
   },
   "source": [
    "# Inference test"
   ]
  },
  {
   "cell_type": "code",
   "execution_count": 18,
   "metadata": {
    "id": "mGAzLocO9hE7"
   },
   "outputs": [],
   "source": [
    "interpreter = tf.lite.Interpreter(model_path=tflite_save_path)\n",
    "interpreter.allocate_tensors()"
   ]
  },
  {
   "cell_type": "code",
   "execution_count": 19,
   "metadata": {
    "id": "oQuDK8YS9hE7"
   },
   "outputs": [],
   "source": [
    "# Get I / O tensor\n",
    "input_details = interpreter.get_input_details()\n",
    "output_details = interpreter.get_output_details()"
   ]
  },
  {
   "cell_type": "code",
   "execution_count": 20,
   "metadata": {
    "id": "2_ixAf_l9hE7"
   },
   "outputs": [],
   "source": [
    "interpreter.set_tensor(input_details[0]['index'], np.array([X_test[0]]))"
   ]
  },
  {
   "cell_type": "code",
   "execution_count": 21,
   "metadata": {
    "colab": {
     "base_uri": "https://localhost:8080/"
    },
    "id": "s4FoAnuc9hE7",
    "outputId": "91f18257-8d8b-4ef3-c558-e9b5f94fabbf",
    "scrolled": true
   },
   "outputs": [
    {
     "name": "stdout",
     "output_type": "stream",
     "text": [
      "CPU times: total: 0 ns\n",
      "Wall time: 6.92 ms\n"
     ]
    }
   ],
   "source": [
    "%%time\n",
    "# Inference implementation\n",
    "interpreter.invoke()\n",
    "tflite_results = interpreter.get_tensor(output_details[0]['index'])"
   ]
  },
  {
   "cell_type": "code",
   "execution_count": 22,
   "metadata": {
    "colab": {
     "base_uri": "https://localhost:8080/"
    },
    "id": "vONjp19J9hE8",
    "outputId": "77205e24-fd00-42c4-f7b6-e06e527c2cba"
   },
   "outputs": [
    {
     "name": "stdout",
     "output_type": "stream",
     "text": [
      "[2.2139626e-02 9.5782715e-01 5.1671581e-05 1.9175483e-02 7.9747813e-04\n",
      " 8.5531456e-06]\n",
      "1\n"
     ]
    }
   ],
   "source": [
    "print(np.squeeze(tflite_results))\n",
    "print(np.argmax(np.squeeze(tflite_results)))"
   ]
  }
 ],
 "metadata": {
  "accelerator": "GPU",
  "colab": {
   "collapsed_sections": [],
   "name": "keypoint_classification_EN.ipynb",
   "provenance": [],
   "toc_visible": true
  },
  "kernelspec": {
   "display_name": "Python 3 (ipykernel)",
   "language": "python",
   "name": "python3"
  },
  "language_info": {
   "codemirror_mode": {
    "name": "ipython",
    "version": 3
   },
   "file_extension": ".py",
   "mimetype": "text/x-python",
   "name": "python",
   "nbconvert_exporter": "python",
   "pygments_lexer": "ipython3",
   "version": "3.10.9"
  }
 },
 "nbformat": 4,
 "nbformat_minor": 1
}
